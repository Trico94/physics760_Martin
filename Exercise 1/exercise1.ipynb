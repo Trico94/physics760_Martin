{
 "metadata": {
  "language_info": {
   "codemirror_mode": {
    "name": "ipython",
    "version": 3
   },
   "file_extension": ".py",
   "mimetype": "text/x-python",
   "name": "python",
   "nbconvert_exporter": "python",
   "pygments_lexer": "ipython3",
   "version": "3.6.9-final"
  },
  "orig_nbformat": 2,
  "kernelspec": {
   "name": "python3",
   "display_name": "Python 3"
  }
 },
 "nbformat": 4,
 "nbformat_minor": 2,
 "cells": [
  {
   "source": [
    "# Homework 1 from Martin Gräf, Richard Baumann and Thomas Block\n",
    "\n",
    "The main focus in this homework will be the ising model. In this particular example we look at a one-dimensional version of the modell, which describes a chain of spins. Due to this one-dimensionallity, if we observe one particle in the chain, it has only two neighbours. \n",
    "\n",
    "The Hamiltionian of the system can be written as: \n",
    "\n",
    "\\begin{equation}\n",
    "    H(\\sigma) = - J \\sum_{\\langle x~y\\rangle} \\sigma_x \\sigma_y - h \\sum_x \\sigma_x\n",
    "\\end{equation}\n",
    "\n",
    "\n",
    "\n"
   ],
   "cell_type": "markdown",
   "metadata": {}
  },
  {
   "source": [
    "## Exercise 1: Discuss the physical meaning of J, in particular the sign of J, and the role it plays in magnets, for example.\n",
    "In the equation above, J is a coupling constant, which decribes the interaction between the magnetic moments:\n",
    "\n",
    "*  J<0: spins are aligned mostly antiparallel. The interaction is called antiferromagenitc.\n",
    "*  J=0: spins are non-interacting.\n",
    "*  J>0: spins are aligned mostly antiparallel. The interaction called ferromagenitc."
   ],
   "cell_type": "markdown",
   "metadata": {}
  },
  {
   "source": [
    "## Exercise 2: Clarify what it means to have periodic boundary conditions (nearest neighbors)\n",
    "\n",
    "*  J<0: spins are aligned mostly antiparallel. The interaction is called antiferromagenitc.\n",
    "*  J=0: spins are non-interacting.\n",
    "*  J>0: spins are aligned mostly antiparallel. The interaction called ferromagenitc."
   ],
   "cell_type": "markdown",
   "metadata": {}
  },
  {
   "cell_type": "code",
   "execution_count": null,
   "metadata": {},
   "outputs": [],
   "source": []
  }
 ]
}