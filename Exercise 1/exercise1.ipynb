{
 "metadata": {
  "language_info": {
   "codemirror_mode": {
    "name": "ipython",
    "version": 3
   },
   "file_extension": ".py",
   "mimetype": "text/x-python",
   "name": "python",
   "nbconvert_exporter": "python",
   "pygments_lexer": "ipython3",
   "version": "3.6.9-final"
  },
  "orig_nbformat": 2,
  "kernelspec": {
   "name": "python3",
   "display_name": "Python 3"
  }
 },
 "nbformat": 4,
 "nbformat_minor": 2,
 "cells": [
  {
   "source": [
    "# Homework 1 from Martin Gräf, Richard Baumann and Thomas Block\n",
    "\n",
    "The main focus in this homework will be the ising model. In this particular example we look at a one-dimensional version of the modell, which describes a chain of spins. Due to this one-dimensionallity, if we observe one particle in the chain, it has only two neighbours. \n",
    "\n",
    "The Hamiltionian of the system can be written as: \n",
    "\n",
    "\\begin{equation}\n",
    "    H(\\sigma) = - J \\sum_{\\langle x~y\\rangle} \\sigma_x \\sigma_y - h \\sum_x \\sigma_x\n",
    "\\end{equation}\n",
    "\n",
    "\n",
    "\n"
   ],
   "cell_type": "markdown",
   "metadata": {}
  },
  {
   "source": [
    "## Exercise 1: Discuss the physical meaning of J, in particular the sign of J, and the role it plays in magnets, for example.\n",
    "In the equation above, J is a coupling constant, which decribes the interaction between the magnetic moments:\n",
    "\n",
    "*  J<0: spins are aligned mostly antiparallel. The interaction is called antiferromagenitc.\n",
    "*  J=0: spins are non-interacting.\n",
    "*  J>0: spins are aligned mostly parallel. The interaction called ferromagenitc."
   ],
   "cell_type": "markdown",
   "metadata": {}
  },
  {
   "source": [
    "## Exercise 2: Clarify what it means to have periodic boundary conditions (nearest neighbors)\n",
    "\n"
   ],
   "cell_type": "markdown",
   "metadata": {}
  },
  {
   "source": [
    "## Exercise 3: Implement the Ising 1d simulation: "
   ],
   "cell_type": "markdown",
   "metadata": {}
  },
  {
   "cell_type": "code",
   "execution_count": 23,
   "metadata": {},
   "outputs": [],
   "source": [
    "#just importing stuff, nothing to see here yet :)\n",
    "\n",
    "import numpy as np \n",
    "import matplotlib.pyplot as plt\n",
    "import math\n",
    "import itertools "
   ]
  },
  {
   "source": [
    "As previously mentioned, the hamiltionian is calculated by:\n",
    "\n",
    "\\begin{equation}\n",
    "    H(\\sigma) = - J \\sum_{\\langle x~y\\rangle} \\sigma_x \\sigma_y - h \\sum_x \\sigma_x.\n",
    "\\end{equation}\n",
    "\n",
    "That can be implemented as a function."
   ],
   "cell_type": "markdown",
   "metadata": {}
  },
  {
   "cell_type": "code",
   "execution_count": 2,
   "metadata": {},
   "outputs": [],
   "source": [
    "#Calculate Hamiltonian. J and h are floats, the spin is supposed to be an array.\n",
    "def hamiltionian(spin, j, h):\n",
    "    minuend = 0\n",
    "    subtrahend = 0\n",
    "    for i in range(len(spin)-1):\n",
    "        minuend = minuend + spin[i]*spin[i+1]\n",
    "        subtrahend = subtrahend + spin[i] \n",
    "    return (-j*minuend-h*subtrahend)"
   ]
  },
  {
   "source": [
    "We assume, that the spins are distributed following a Bolzmann distribution (a fact, that is given by the exercise sheet):\n",
    "\n",
    "\\begin{equation}\n",
    "    P(s)=\\frac{ exp \\big[-\\frac{H(s)}{k_{b}T} \\big]}{\\sum_{s`} exp \\big[-\\frac{H(s`)}{k_{b}T}\\big]}  = \\frac{1}{Z} exp \\big[-\\frac{H(s)}{k_{b}T} \\big].\n",
    "\\end{equation}\n",
    "\n",
    "Therefore Z can be determined via:\n",
    "\n",
    "\\begin{equation}\n",
    "    Z={\\sum_{s`} exp \\big[-\\frac{H(s`)}{k_{b}T}\\big]} \n",
    "\\end{equation}"
   ],
   "cell_type": "markdown",
   "metadata": {}
  },
  {
   "cell_type": "code",
   "execution_count": 8,
   "metadata": {},
   "outputs": [
    {
     "output_type": "stream",
     "name": "stdout",
     "text": [
      "2\n"
     ]
    }
   ],
   "source": [
    "def z_simulated(spin_configurations, j, h, t):\n",
    "    sum=0\n",
    "    for i in range(len(spin_configurations)):\n",
    "        sum=sum+math.exp(-hamiltionian(spin_configurations[i], j, h)/t)\n",
    "    return (sum)\n",
    "\n",
    "\n",
    "#print(z_simulated([[1, 1, -1, -1, 1, 1, -1],[1, 1, -1, -1, 1, 1, -1]], 1, 1, 1))\n",
    "print(len([[1, 1, -1, -1, 1, 1, -1],[1, 1, -1, -1, 1, 1, -1]]))"
   ]
  },
  {
   "source": [
    "Last but not least, the spin arrays have to be generated, because this is the backbone of the exercise. The array, that is to be generated has to have a lenght of N. The contained values must be either 1 or -1. Good, that there is a function for that:"
   ],
   "cell_type": "markdown",
   "metadata": {}
  },
  {
   "cell_type": "code",
   "execution_count": 37,
   "metadata": {},
   "outputs": [],
   "source": [
    "def gen_spinarrays(length):\n",
    "    return(list(itertools.product([-1, 1], repeat=length)))\n"
   ]
  },
  {
   "source": [
    "Now we can also implement the numerical solution that is given on the exercise sheet:\n",
    "\n",
    "\\begin{equation}\n",
    "    Z=\\lambda_{+}^{N}+\\lambda_{-}^{N}, \n",
    "\\end{equation}\n",
    "\n",
    "with:\n",
    "\n",
    "\\begin{equation}\n",
    "    \\lambda_{\\pm}=e^{\\frac{J}{T}} \\big( \\cosh(\\frac{h}{T}) \\pm \\sqrt{\\sinh(\\frac{h}{T})^{2}+ e^{-4\\frac{J}{T}}} \\big).\n",
    "\\end{equation}\n"
   ],
   "cell_type": "markdown",
   "metadata": {}
  },
  {
   "cell_type": "code",
   "execution_count": 38,
   "metadata": {},
   "outputs": [
    {
     "output_type": "stream",
     "name": "stdout",
     "text": [
      "3.956744643262067e+16\n"
     ]
    }
   ],
   "source": [
    "print(z_simulated(gen_spinarrays(20), 1, 1, 1))"
   ]
  },
  {
   "cell_type": "code",
   "execution_count": null,
   "metadata": {},
   "outputs": [],
   "source": []
  }
 ]
}