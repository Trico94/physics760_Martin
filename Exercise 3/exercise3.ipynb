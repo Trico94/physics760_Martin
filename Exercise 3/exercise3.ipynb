{
 "metadata": {
  "language_info": {
   "codemirror_mode": {
    "name": "ipython",
    "version": 3
   },
   "file_extension": ".py",
   "mimetype": "text/x-python",
   "name": "python",
   "nbconvert_exporter": "python",
   "pygments_lexer": "ipython3",
   "version": 3
  },
  "orig_nbformat": 2
 },
 "nbformat": 4,
 "nbformat_minor": 2,
 "cells": [
  {
   "source": [
    "# Homework 3 from Martin Gräf, Richard Baumann and Thomas Block\n",
    "\n",
    "## Exercise 1\n",
    "Derive corresponding expressions for O[φ] for  magnetization (per site) and energy (per site). \n",
    "\n",
    "\n",
    "\n"
   ],
   "cell_type": "markdown",
   "metadata": {}
  },
  {
   "source": [
    "## Exercise 2\n",
    "\n",
    "Determine the equations of motion (EoMs) for this Hamiltonian by applying the\n",
    "Hamilton equations\n"
   ],
   "cell_type": "markdown",
   "metadata": {}
  },
  {
   "source": [
    "## Exercise 3\n",
    "\n",
    "Code up the leapfrog algorithm to evolve (p0, φ0) → (pf , φf ). Verify the convergence claim H(pf , φf ) = H(p0, φ0) + O(\u000f2). You should find something similar to Figure 1\n",
    "(especially for large Nmd)"
   ],
   "cell_type": "markdown",
   "metadata": {}
  },
  {
   "source": [
    "## Exercise 5\n",
    "With your working leapfrog integrator, code up the HMC algorithm for the long-range Ising model."
   ],
   "cell_type": "markdown",
   "metadata": {}
  },
  {
   "source": [
    "## Exercise 6\n",
    "Setting h = (βh) = .5 and using some values of N ranging from 5 to 20, calculate the average energy per site and mean magnetization per site as a function of J = (βJ) ∈ [.2, 2]. Tune Nmd such that the acceptance rate is above 50%"
   ],
   "cell_type": "markdown",
   "metadata": {}
  }
 ]
}