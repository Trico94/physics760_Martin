{
 "metadata": {
  "language_info": {
   "codemirror_mode": {
    "name": "ipython",
    "version": 3
   },
   "file_extension": ".py",
   "mimetype": "text/x-python",
   "name": "python",
   "nbconvert_exporter": "python",
   "pygments_lexer": "ipython3",
   "version": "3.6.9-final"
  },
  "orig_nbformat": 2,
  "kernelspec": {
   "name": "python3",
   "display_name": "Python 3"
  }
 },
 "nbformat": 4,
 "nbformat_minor": 2,
 "cells": [
  {
   "cell_type": "code",
   "execution_count": 1,
   "metadata": {},
   "outputs": [],
   "source": [
    "import sys\n",
    "import os\n",
    "import io\n",
    "import numpy as np\n",
    "import matplotlib.pyplot as plt\n",
    "import scipy.optimize as opt\n",
    "import math\n"
   ]
  },
  {
   "source": [
    "# Homework 3 from Martin Gräf, Richard Baumann and Thomas Block\n",
    "\n",
    "## Exercise 1\n",
    "Derive corresponding expressions for O[φ] for  magnetization (per site) and energy (per site). \n",
    "\n",
    "\n",
    "\n"
   ],
   "cell_type": "markdown",
   "metadata": {}
  },
  {
   "source": [
    "## Exercise 2\n",
    "\n",
    "### Determine the equations of motion (EoMs) for this Hamiltonian by applying the Hamilton equations.\n",
    "\n",
    "The Hamilton operator of the problem is given as:\n",
    "\n",
    "\\begin{equation}\n",
    "    H=+\\dfrac{p^2}{2}+\\dfrac{{\\varphi}^2}{2{\\beta}\\hat{J}}-N\\ln\\left(2\\cosh\\left({\\varphi}+{\\beta}h\\right)\\right).\n",
    "\\end{equation}\n",
    "\n",
    "The equations of motion are given as:\n",
    "\n",
    "\\begin{equation}\n",
    "    \\dot{\\varphi} = \\dfrac{\\partial}{\\partial p} H = p\n",
    "\\end{equation}\n",
    "\\begin{equation}\n",
    "    \\dot{p} = \\dfrac{\\partial}{\\partial \\varphi} H = \n",
    "    \\dfrac{{\\varphi}}{{\\beta}\\hat{J}}-\\dfrac{N\\sinh\\left({\\varphi}+{\\beta}h\\right)}{\\cosh\\left({\\varphi}+{\\beta}h\\right)}\n",
    "\\end{equation}\n",
    "\n",
    "These can be implemented as:"
   ],
   "cell_type": "markdown",
   "metadata": {}
  },
  {
   "cell_type": "code",
   "execution_count": 5,
   "metadata": {},
   "outputs": [],
   "source": [
    "def phi_dot(p , phi, beta, J, h):\n",
    "    # both p and phi are two-element arrays.  phi doesn't do anything\n",
    "    return p\n",
    "\n",
    "def p_dot(p, phi, beta, J, h):\n",
    "    # both p and phi are two-element arrays.  p doesn't do anything\n",
    "    first_term=pgi/(beta*J)\n",
    "    second_term=N*math.sinh(phi+beta*h)/(math.cosh(phi+beta*h))\n",
    "    return (first_term-second_term)"
   ]
  },
  {
   "source": [
    "## Exercise 3\n",
    "\n",
    "Code up the leapfrog algorithm to evolve (p0, φ0) → (pf , φf ). Verify the convergence claim H(pf , φf ) = H(p0, φ0) + O(\u000f2). You should find something similar to Figure 1\n",
    "(especially for large Nmd)"
   ],
   "cell_type": "markdown",
   "metadata": {}
  },
  {
   "cell_type": "code",
   "execution_count": 3,
   "metadata": {},
   "outputs": [],
   "source": [
    "def leapfrog(p_in, phi_in, Nmd, trajLength = 1):\n",
    "    p_out = np.array(p_in)\n",
    "    phi_out = np.array(phi_in)\n",
    "    \n",
    "    epsilon = trajLength/Nmd\n",
    "    \n",
    "    # first half step\n",
    "    p_out = p_out + .5*epsilon*p_dot(p_out,phi_out)\n",
    "    \n",
    "    # now let the frogs jump. . .\n",
    "    for i in range(Nmd):\n",
    "        phi_out = phi_out + epsilon*phi_dot(p_out,phi_out)\n",
    "        p_out = p_out + epsilon*p_dot(p_out,phi_out)\n",
    "        \n",
    "    # now we've gone one step too far\n",
    "    p_out = p_out -  .5*epsilon*p_dot(p_out,phi_out)\n",
    "    \n",
    "    return p_out,\n",
    "    \n",
    "    "
   ]
  },
  {
   "source": [
    "Testing the leapfrog"
   ],
   "cell_type": "markdown",
   "metadata": {}
  },
  {
   "source": [
    "## Exercise 4\n",
    "With your working leapfrog integrator, code up the HMC algorithm for the long-range Ising model."
   ],
   "cell_type": "markdown",
   "metadata": {}
  },
  {
   "source": [
    "## Exercise 5\n",
    "Setting h = (βh) = .5 and using some values of N ranging from 5 to 20, calculate the average energy per site and mean magnetization per site as a function of J = (βJ) ∈ [.2, 2]. Tune Nmd such that the acceptance rate is above 50%"
   ],
   "cell_type": "markdown",
   "metadata": {}
  }
 ]
}