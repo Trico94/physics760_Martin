{
 "metadata": {
  "language_info": {
   "codemirror_mode": {
    "name": "ipython",
    "version": 3
   },
   "file_extension": ".py",
   "mimetype": "text/x-python",
   "name": "python",
   "nbconvert_exporter": "python",
   "pygments_lexer": "ipython3",
   "version": "3.6.9-final"
  },
  "orig_nbformat": 2,
  "kernelspec": {
   "name": "python3",
   "display_name": "Python 3"
  }
 },
 "nbformat": 4,
 "nbformat_minor": 2,
 "cells": [
  {
   "source": [
    "# Homework 2 from Martin Gräf, Richard Baumann and Thomas Block\n",
    "\n",
    "After taking a look at the one-dimensional ising model in Homework 1, we now take a look at the two-dimensional variant. Again we have the hamiltonian:\n",
    "\n",
    "\n",
    "\\begin{equation}\n",
    "    H(\\sigma) = - J \\sum_{\\langle x~y\\rangle} \\sigma_x \\sigma_y - h \\sum_x \\sigma_x\n",
    "\\end{equation}\n",
    "\n",
    "\n",
    "\n"
   ],
   "cell_type": "markdown",
   "metadata": {}
  },
  {
   "cell_type": "code",
   "execution_count": 8,
   "metadata": {},
   "outputs": [],
   "source": [
    "#just importing stuff, nothing to see here yet :)\n",
    "\n",
    "import numpy as np \n",
    "import random as rd\n",
    "import matplotlib.pyplot as plt\n",
    "import math\n",
    "import itertools "
   ]
  },
  {
   "source": [
    "This time we not only look at the particles left and right of the observed particle, but at the particles above and below. Therefore the hamiltonian looks like this:\n",
    "\n",
    "\\begin{equation}\n",
    "    H(\\sigma) = - J (\\sigma_{x-1, y} \\sigma_{x, y} + \\sigma_{x+1, y} \\sigma_{x1, y} + \\sigma_{x, y-1} \\sigma_{x, y} + \\sigma_{x+1, y} \\sigma_{x, y}) - h \\sigma_{x, y}\n",
    "\\end{equation}\n",
    "\n",
    "As we can see in the equation above, this hamiltonian looks at all adjacent spins. Therefore, the implementation looks something like that:\n"
   ],
   "cell_type": "markdown",
   "metadata": {}
  },
  {
   "cell_type": "code",
   "execution_count": null,
   "metadata": {},
   "outputs": [],
   "source": [
    "#Spin is supposed to be a NxN big array. Position has to be an array of the form [x, y] to indicate the position of the spin.\n",
    "def hamiltionian(spin, position, j, h):\n",
    "    minuend = 0\n",
    "    for i in [-1, 1]\n",
    "        #Todo periocicallyity\n",
    "        #Left/right spin\n",
    "        minuend = minuend + spin[position[0]+i][position[1]]*spin[position[0]][position[1]]\n",
    "        #Lower/upper spin\n",
    "        minuend = minuend + spin[position[0]][position[1]+i]*spin[position[0]][position[1]] \n",
    "    return (-j*minuend-h*spin[position[0]][position[1]])"
   ]
  },
  {
   "source": [
    "Now we have to generate a spin array, that can be used for the Hamiltonian. This spin-arry is $ N_{x} $ x $ N_{y} $ large, however in accordance to the exercise sheet we choose $ N_{x}=N_{y} $."
   ],
   "cell_type": "markdown",
   "metadata": {}
  },
  {
   "cell_type": "code",
   "execution_count": 44,
   "metadata": {},
   "outputs": [
    {
     "output_type": "stream",
     "name": "stdout",
     "text": [
      "[[-1, -1, 1, 1, 1], [1, 1, -1, 1, 1], [1, 1, -1, 1, -1], [1, -1, 1, 1, -1], [1, 1, -1, 1, -1]]\n"
     ]
    }
   ],
   "source": [
    "def gen_spin_array(length):\n",
    "    configurations=[]\n",
    "    current_configuration=[]\n",
    "    for j in range(length):\n",
    "        for i in range(length):\n",
    "            #a random integer between 1 and 3 (1, 2)\n",
    "            current_configuration=current_configuration+[2*rd.randint(1, 2)-3]\n",
    "        configurations=configurations+[current_configuration]\n",
    "        current_configuration=[]\n",
    "    return configurations"
   ]
  },
  {
   "cell_type": "code",
   "execution_count": null,
   "metadata": {},
   "outputs": [],
   "source": [
    "Here comes the part that is different to the last homework. Instead of brute forcing the solution we now have a plan."
   ]
  }
 ]
}