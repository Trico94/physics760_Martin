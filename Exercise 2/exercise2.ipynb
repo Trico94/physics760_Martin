{
 "metadata": {
  "language_info": {
   "codemirror_mode": {
    "name": "ipython",
    "version": 3
   },
   "file_extension": ".py",
   "mimetype": "text/x-python",
   "name": "python",
   "nbconvert_exporter": "python",
   "pygments_lexer": "ipython3",
   "version": "3.6.9-final"
  },
  "orig_nbformat": 2,
  "kernelspec": {
   "name": "python3",
   "display_name": "Python 3"
  }
 },
 "nbformat": 4,
 "nbformat_minor": 2,
 "cells": [
  {
   "source": [
    "# Homework 2 from Martin Gräf, Richard Baumann and Thomas Block\n",
    "\n",
    "After taking a look at the one-dimensional ising model in Homework 1, we now take a look at the two-dimensional variant. Again we have the hamiltonian:\n",
    "\n",
    "\n",
    "\\begin{equation}\n",
    "    H(\\sigma) = - J \\sum_{\\langle x~y\\rangle} \\sigma_x \\sigma_y - h \\sum_x \\sigma_x\n",
    "\\end{equation}\n",
    "\n",
    "\n",
    "\n"
   ],
   "cell_type": "markdown",
   "metadata": {}
  },
  {
   "cell_type": "code",
   "execution_count": 8,
   "metadata": {},
   "outputs": [],
   "source": [
    "#just importing stuff, nothing to see here yet :)\n",
    "\n",
    "import numpy as np \n",
    "import random as rd\n",
    "import matplotlib.pyplot as plt\n",
    "import math\n",
    "import itertools "
   ]
  },
  {
   "source": [
    "This time we not only look at the particles left and right of the observed particle, but at the particles above and below. Therefore the hamiltonian looks like this:\n",
    "\n",
    "\\begin{equation}\n",
    "    H(\\sigma) = - J (\\sigma_{x-1, y} \\sigma_{x, y} + \\sigma_{x+1, y} \\sigma_{x1, y} + \\sigma_{x, y-1} \\sigma_{x, y} + \\sigma_{x+1, y} \\sigma_{x, y}) - h \\sigma_{x, y}\n",
    "\\end{equation}\n",
    "\n",
    "As we can see in the equation above, this hamiltonian looks at all adjacent spins. Therefore, the implementation looks something like that:\n"
   ],
   "cell_type": "markdown",
   "metadata": {}
  },
  {
   "cell_type": "code",
   "execution_count": 9,
   "metadata": {},
   "outputs": [],
   "source": [
    "#Spin is supposed to be a NxN big array. Position has to be an array of the form [x, y] to indicate the position of the spin.\n",
    "def hamiltionian(spin_array, position, j, h):\n",
    "    minuend = 0\n",
    "    for i in [-1, 1]:\n",
    "        #if we hit the right side, go to the left side\n",
    "        if position[0]+i>len(spin_array[0])-1:\n",
    "            #print(\"i was\", i, \"which would result in\", position[0]+i, \"therefore it is now changed to\", position[0]-position[0])\n",
    "            i=-position[0]\n",
    "        #if we hit the left side, go to the right side\n",
    "        elif position[0]+i<0:\n",
    "            #print(\"i was\", i, \"which would result in\", position[0]+i, \"therefore it is now changed to\", position[0]+len(spin_array[0])-1)\n",
    "            i=len(spin_array[0])-1\n",
    "        #Left/right spin\n",
    "        minuend = minuend + spin_array[position[0]+i][position[1]]*spin_array[position[0]][position[1]]\n",
    "    for i in [-1, 1]:\n",
    "        #if we hit the top, go to the bottom side\n",
    "        if position[1]+i>len(spin_array[0])-1:\n",
    "            #print(\"i was\", i, \"which would result in\", position[0]+i, \"therefore it is now changed to\", position[1]-position[1])\n",
    "            i=-position[1]\n",
    "        #if we hit the bottom, go to the top side\n",
    "        elif position[1]+i<0:\n",
    "            #print(\"i was\", i, \"which would result in\", position[0]+i, \"therefore it is now changed to\", position[1]+len(spin_array[0])-1)\n",
    "            i=len(spin_array[0])-1\n",
    "        #Lower/upper spin\n",
    "        minuend = minuend + spin_array[position[0]][position[1]+i]*spin_array[position[0]][position[1]] \n",
    "    return (-j*minuend-h*spin_array[position[0]][position[1]])"
   ]
  },
  {
   "source": [
    "Now we have to generate a spin array, that can be used later on. This array has to be two dimensional. This spin-arry is $ N_{x} $ x $ N_{y} $ large, however in accordance to the exercise sheet we choose $ N_{x}=N_{y} $."
   ],
   "cell_type": "markdown",
   "metadata": {}
  },
  {
   "cell_type": "code",
   "execution_count": 10,
   "metadata": {},
   "outputs": [],
   "source": [
    "def gen_spin_array(length):\n",
    "    configurations=[]\n",
    "    current_configuration=[]\n",
    "    for j in range(length):\n",
    "        for i in range(length):\n",
    "            #a random integer between 1 and 3 (1, 2)\n",
    "            current_configuration=current_configuration+[2*rd.randint(1, 2)-3]\n",
    "        configurations=configurations+[current_configuration]\n",
    "        current_configuration=[]\n",
    "    return configurations"
   ]
  },
  {
   "source": [
    "We can carry over the other instructions from the previous homework. Therefore, we assume, that the spins are distributed following a Bolzmann distribution (a fact, that is given by the exercise sheet):\n",
    "\n",
    "\\begin{equation}\n",
    "    P(s)=\\frac{ exp \\big[-\\frac{H(s)}{k_{b}T} \\big]}{\\sum_{s`} exp \\big[-\\frac{H(s`)}{k_{b}T}\\big]}  = \\frac{1}{Z} exp \\big[-\\frac{H(s)}{k_{b}T} \\big].\n",
    "\\end{equation}\n",
    "\n",
    "Thus, Z can be determined via:\n",
    "\n",
    "\\begin{equation}\n",
    "    Z={\\sum_{s`} exp \\big[-\\frac{H(s`)}{k_{b}T}\\big]} \n",
    "\\end{equation}"
   ],
   "cell_type": "markdown",
   "metadata": {}
  },
  {
   "cell_type": "code",
   "execution_count": 11,
   "metadata": {},
   "outputs": [],
   "source": [
    "def z_simulated(spin_array, j, h, t):\n",
    "    sum=0\n",
    "    for l in range(len(spin_array[0])):\n",
    "        for k in range(len(spin_array[0])):\n",
    "            sum=sum+np.exp(-hamiltionian(spin_array, [l, k], j, h)/t)\n",
    "    return (sum)"
   ]
  },
  {
   "source": [
    "And, the magnetization per spin is defined as:\n",
    "\n",
    "\\begin{equation}\n",
    "    <m>=+\\frac{T}{N}\\frac{\\partial log(Z)}{\\partial h} \n",
    "\\end{equation}"
   ],
   "cell_type": "markdown",
   "metadata": {}
  },
  {
   "cell_type": "code",
   "execution_count": 12,
   "metadata": {},
   "outputs": [],
   "source": [
    "def magnetization_random_configurations(spin_array, j, h, t, intervall):\n",
    "    z_1=z_simulated(spin_array, j, h+(intervall/2), t)\n",
    "    z_2=z_simulated(spin_array, j, h-(intervall/2), t)\n",
    "    return (t/(len(spin_array[0])**2)*((np.log(z_1)-np.log(z_2))/intervall))"
   ]
  },
  {
   "source": [
    "#Todo Format this better with markdown. The desired Format ist in Lecture 3 Slide 55\n",
    "\n",
    "Here comes the part that is different to the last homework. Instead of brute forcing the solution we now have a plan. We will use the Metropolis-Hastings Method:\n",
    "\n",
    "1. We take a random spin from our matrix\n",
    "2. Then we flip the spin ($s_{i}=-1*s_{i}$)\n",
    "3. The change in energy is calculated\n",
    "4. Actual Metropolis-Hastings step:\n",
    "    *A if $\\Delta S < 0 $ ACCEPT the spin flip\n",
    "    *B else sample > ~ U(0,1)\n",
    "        if y $\\leq exp(-\\Delta S)$ ACCEPT the spin flip\n",
    "        otherwise REJECT the spin flip and keep the original spin s_{i}\n",
    "5. Steps 1-4 are repeated for $\\Lambda$ times (which is called sweep)\n",
    "\n",
    "First we will implement a sweep:"
   ],
   "cell_type": "markdown",
   "metadata": {}
  },
  {
   "cell_type": "code",
   "execution_count": 13,
   "metadata": {},
   "outputs": [],
   "source": [
    "def sweep(spin_array, j, h, t):\n",
    "    position=[rd.randint(0, len(spin_array)-1), rd.randint(0, len(spin_array)-1)]\n",
    "    position=[1, 1]\n",
    "    #Calculate Energy prior to flip\n",
    "    s_prior=hamiltionian(spin_array, position, j, h)/t\n",
    "    #Flip Spin\n",
    "    spin_array[position[0]][position[1]]=-spin_array[position[0]][position[1]]\n",
    "    #Calculate Energy after flip\n",
    "    s_later=hamiltionian(spin_array, position, j, h)/t\n",
    "    #Computing the Energy\n",
    "    delta_s=s_later-s_prior\n",
    "    if delta_s>0:\n",
    "        y=rd.randint(0, 1)\n",
    "        if y>math.exp(-delta_s):\n",
    "            spin_array[position[0]][position[1]]=-spin_array[position[0]][position[1]]\n",
    "    return(spin_array)\n"
   ]
  },
  {
   "source": [
    "Now these sweeps are executed a lot of times. The next steps are:\n",
    "\n",
    "6. Measure the a relevant property (magnetization, internal energy, etc.)\n",
    "7. Repeat from step 1 (Over time magnetization should converge towards the real value of the observable)"
   ],
   "cell_type": "markdown",
   "metadata": {}
  },
  {
   "cell_type": "code",
   "execution_count": 22,
   "metadata": {},
   "outputs": [
    {
     "output_type": "stream",
     "name": "stdout",
     "text": [
      "[0.021386187618583463, 0.03168108653804928, 0.03168108653804928, 0.021386187618583463, 0.03168108653804928, 0.03168108653804928, 0.03168108653804928, 0.021386187618583463, 0.021386187618583463, 0.03168108653804928]\n"
     ]
    }
   ],
   "source": [
    "#lambda seems to cause a invalid syntax error \n",
    "def mc_estimate(spin_array, j, h, t, lamba, repeats):\n",
    "    m=[]\n",
    "    for k in range(repeats):\n",
    "        for i in range(lamba):\n",
    "            spin_array=sweep(spin_array, j, h, t)\n",
    "        m=m+[magnetization_random_configurations(spin_array, j, h, t, 0.1)]\n",
    "    return m\n",
    "\n",
    "\n",
    "\n",
    "spin_array=gen_spin_array(5)\n",
    "print(mc_estimate(spin_array, 1, 1, 1, 10000, 10))"
   ]
  },
  {
   "cell_type": "code",
   "execution_count": null,
   "metadata": {},
   "outputs": [],
   "source": []
  }
 ]
}