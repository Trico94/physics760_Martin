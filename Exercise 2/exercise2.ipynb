{
 "metadata": {
  "language_info": {
   "codemirror_mode": {
    "name": "ipython",
    "version": 3
   },
   "file_extension": ".py",
   "mimetype": "text/x-python",
   "name": "python",
   "nbconvert_exporter": "python",
   "pygments_lexer": "ipython3",
   "version": "3.6.9-final"
  },
  "orig_nbformat": 2,
  "kernelspec": {
   "name": "python3",
   "display_name": "Python 3"
  }
 },
 "nbformat": 4,
 "nbformat_minor": 2,
 "cells": [
  {
   "source": [
    "# Homework 2 from Martin Gräf, Richard Baumann and Thomas Block\n",
    "\n",
    "## Exercise 1\n",
    "\n",
    "After taking a look at the one-dimensional ising model in Homework 1, we now take a look at the two-dimensional variant. Again we have the hamiltonian:\n",
    "\n",
    "\n",
    "\\begin{equation}\n",
    "    H(\\sigma) = - J \\sum_{\\langle x~y\\rangle} \\sigma_x \\sigma_y - h \\sum_x \\sigma_x\n",
    "\\end{equation}\n",
    "\n",
    "\n",
    "\n"
   ],
   "cell_type": "markdown",
   "metadata": {}
  },
  {
   "cell_type": "code",
   "execution_count": 1,
   "metadata": {},
   "outputs": [],
   "source": [
    "#just importing stuff, nothing to see here yet :)\n",
    "\n",
    "import numpy as np \n",
    "import random as rd\n",
    "import matplotlib.pyplot as plt\n",
    "import math\n",
    "import itertools \n",
    "import scipy.special as sp"
   ]
  },
  {
   "source": [
    "This time we not only look at the particles left and right of the observed particle, but at the particles above and below. Therefore the hamiltonian looks like this:\n",
    "\n",
    "\\begin{equation}\n",
    "    H(\\sigma) = - J (\\sigma_{x-1, y} \\sigma_{x, y} + \\sigma_{x+1, y} \\sigma_{x1, y} + \\sigma_{x, y-1} \\sigma_{x, y} + \\sigma_{x+1, y} \\sigma_{x, y}) - h \\sigma_{x, y}\n",
    "\\end{equation}\n",
    "\n",
    "As we can see in the equation above, this hamiltonian looks the nearest neighbouring spins. In the tutorial we were told, that we should only look at 2 Neighbours (up/down and left/right). Also we implement the boundary conditions (if the neighbour is outside of the generated grid, we go back to the other side). Therefore, the implementation looks something like that:\n"
   ],
   "cell_type": "markdown",
   "metadata": {}
  },
  {
   "cell_type": "code",
   "execution_count": 2,
   "metadata": {},
   "outputs": [],
   "source": [
    "#Spin is supposed to be a NxN big array. Position has to be an array of the form [x, y] to indicate the position of the spin.\n",
    "def hamiltionian(spin_array, position, j, h):\n",
    "    minuend=0\n",
    "    if position[0]+1 < len(spin_array[0])-1:\n",
    "        minuend = minuend + spin_array[position[0]+1][position[1]] * spin_array[position[0]][position[1]] \\\n",
    "                          + spin_array[position[0]-1][position[1]] * spin_array[position[0]][position[1]]\n",
    "    else:\n",
    "        minuend = minuend + spin_array[position[0]-1][position[1]] * spin_array[position[0]][position[1]] \\\n",
    "                          + spin_array[0][position[1]] * spin_array[position[0]][position[1]] \n",
    "    \n",
    "    if position[1]+1 < len(spin_array[0])-1:\n",
    "        minuend = minuend + spin_array[position[0]][position[1]+1] * spin_array[position[0]][position[1]]  \\\n",
    "                          + spin_array[position[0]][position[1]-1] * spin_array[position[0]][position[1]] \n",
    "    else:\n",
    "        minuend = minuend + spin_array[position[0]][position[1]-1] * spin_array[position[0]][position[1]]  \\\n",
    "                          + spin_array[position[0]][0] * spin_array[position[0]][position[1]]\n",
    "        \n",
    "    return (-j*minuend-h*spin_array[position[0]][position[1]])"
   ]
  },
  {
   "source": [
    "Now we have to generate a spin array, that can be used later on. This array has to be two dimensional. This spin-arry is $ N_{x} $ x $ N_{y} $ large, however in accordance to the exercise sheet we choose $ N_{x}=N_{y} $."
   ],
   "cell_type": "markdown",
   "metadata": {}
  },
  {
   "cell_type": "code",
   "execution_count": 3,
   "metadata": {},
   "outputs": [],
   "source": [
    "def gen_spin_array(length):\n",
    "    configurations=np.zeros(length*length).reshape(length, length)\n",
    "    current_configuration=np.zeros(length) \n",
    "    for j in range(length):\n",
    "        for i in range(length):\n",
    "            #a random integer between 1 and 3 (1, 2)\n",
    "            current_configuration[i]=(2*rd.randint(1, 2)-3)\n",
    "        configurations[j]=current_configuration\n",
    "    return configurations"
   ]
  },
  {
   "source": [
    "We can carry over the other instructions from the previous homework. Therefore, we assume, that the spins are distributed following a Bolzmann distribution (a fact, that is given by the exercise sheet):\n",
    "\n",
    "\\begin{equation}\n",
    "    P(s)=\\frac{ exp \\big[-\\frac{H(s)}{k_{b}T} \\big]}{\\sum_{s`} exp \\big[-\\frac{H(s`)}{k_{b}T}\\big]}  = \\frac{1}{Z} exp \\big[-\\frac{H(s)}{k_{b}T} \\big].\n",
    "\\end{equation}\n",
    "\n",
    "Thus, Z can be determined via:\n",
    "\n",
    "\\begin{equation}\n",
    "    Z={\\sum_{s`} exp \\big[-\\frac{H(s`)}{k_{b}T}\\big]} \n",
    "\\end{equation}"
   ],
   "cell_type": "markdown",
   "metadata": {}
  },
  {
   "cell_type": "code",
   "execution_count": 4,
   "metadata": {},
   "outputs": [],
   "source": [
    "def z_simulated(spin_array, j, h, t):\n",
    "    sum=0\n",
    "    for k in range(len(spin_array[0])):\n",
    "        for l in range(len(spin_array[0])):\n",
    "            sum=sum+np.exp(-hamiltionian(spin_array, [k, l], j, h)/t)\n",
    "    return (sum)"
   ]
  },
  {
   "source": [
    "And, the magnetization per spin is defined as:\n",
    "\n",
    "\\begin{equation}\n",
    "    <m>=+\\frac{T}{N}\\frac{\\partial log(Z)}{\\partial h} \n",
    "\\end{equation}"
   ],
   "cell_type": "markdown",
   "metadata": {}
  },
  {
   "cell_type": "code",
   "execution_count": 5,
   "metadata": {},
   "outputs": [],
   "source": [
    "def magnetization_random_configurations(spin_array, j, h, t, intervall):\n",
    "    z_1=z_simulated(spin_array, j, h+(intervall/2), t)\n",
    "    z_2=z_simulated(spin_array, j, h-(intervall/2), t)\n",
    "    return (t/(len(spin_array[0])**2)*((np.log(z_1)-np.log(z_2))/intervall))"
   ]
  },
  {
   "source": [
    "TODO: Make the mathematical proves that u need.\n",
    "\n",
    "However, unlike in the last homework, where we just calculated H to calculate Z in order to compute m, we take a different approach. We try and simlify the terms that we have untill we get a direct way to compute the magnetization. \n",
    "\n",
    "First we put Z into the magnetization. This way we avoid the partial differential:\n",
    "\\begin{equation}\n",
    "    <m>=\\frac{T}{N}\\frac{\\partial log(Z)}{\\partial h} \n",
    "    = \\frac{T}{N}\\frac{\\partial log({\\sum_{s`} exp \\big[-\\frac{H(s`)}{k_{b}T}\\big]} )}{\\partial h} \n",
    "    =  \\frac{1}{N} \\sum_{x} \\sigma_{x} P(s)\n",
    "\\end{equation}\n",
    "\n",
    "With P(s) beeing the Boltzman Dristribution:\n",
    "\n",
    "\\begin{equation}\n",
    "    P(s)=\\frac{ exp \\big[-\\frac{H(s)}{k_{b}T} \\big]}{\\sum_{s`} exp \\big[-\\frac{H(s`)}{k_{b}T}\\big]}\n",
    "\\end{equation}\n",
    "\n",
    "The magnitization can be expresses as the sum of all spins:"
   ],
   "cell_type": "markdown",
   "metadata": {}
  },
  {
   "cell_type": "code",
   "execution_count": 6,
   "metadata": {},
   "outputs": [
    {
     "output_type": "error",
     "ename": "IndentationError",
     "evalue": "expected an indented block (<ipython-input-6-5c78a12952b1>, line 7)",
     "traceback": [
      "\u001b[0;36m  File \u001b[0;32m\"<ipython-input-6-5c78a12952b1>\"\u001b[0;36m, line \u001b[0;32m7\u001b[0m\n\u001b[0;31m    print(arrays)\u001b[0m\n\u001b[0m    ^\u001b[0m\n\u001b[0;31mIndentationError\u001b[0m\u001b[0;31m:\u001b[0m expected an indented block\n"
     ]
    }
   ],
   "source": [
    "#\n",
    "def all_configurations(length):\n",
    "    all_configurations=0\n",
    "    for i in range(len(arrays)):\n",
    "        for j in range(length):\n",
    "            for k in range(length):\n",
    "                print(arrays)\n",
    "    return(0)\n",
    "\n",
    "def magnetization_smart(spin_array):\n",
    "    return (spin_array.sum()/(len(spin_array[0])*len(spin_array[0])))\n",
    "\n",
    "#all_configurations(2)"
   ]
  },
  {
   "source": [
    "#Todo Format this better with markdown. The desired Format is in Lecture 3 Slide 55\n",
    "\n",
    "Here comes the part that is different to the last homework. Instead of brute forcing the solution we now have a plan. We will use the Metropolis-Hastings Method:\n",
    "\n",
    "1. We take a random spin from our matrix\n",
    "2. Then we flip the spin ($s_{i}=-1*s_{i}$)\n",
    "3. The change in energy is calculated\n",
    "4. Actual Metropolis-Hastings step:\n",
    "    A if $\\Delta S < 0 $ ACCEPT the spin flip\n",
    "    B else sample > ~ U(0,1)\n",
    "        if y $\\leq exp(-\\Delta S)$ ACCEPT the spin flip\n",
    "        otherwise REJECT the spin flip and keep the original spin s_{i}\n",
    "5. Steps 1-4 are repeated for $\\Lambda$ times (which is called sweep)\n",
    "\n",
    "First we will implement a sweep. One thing to mention is, that sampling over a uniform distribution as written above can slow down the algorihm. Importance sampling is much better for a problem like this.\n",
    "\n",
    "In this version of the Hamiltonian we have included one optimization step:\n",
    "When the spin is flipped, we normally would have to calculate the complete Hamiltonian. However, we are just looking at one flipped spin, and therefore we only have to care about the neares neighbours. Therefore the changed Hamiltonian is just the changed Hamiltonian of 3 Particles."
   ],
   "cell_type": "markdown",
   "metadata": {}
  },
  {
   "cell_type": "code",
   "execution_count": 7,
   "metadata": {},
   "outputs": [],
   "source": [
    "def sweep(spin_array, j, h, t):\n",
    "    \n",
    "    #Choose a random position\n",
    "    x = rd.randint(0, len(spin_array[0])-1)\n",
    "    y = rd.randint(0, len(spin_array[0])-1)\n",
    "    \n",
    "    # If we reach borders, we return on the other side of the problem.\n",
    "    # Negative index (-1) ends up at the end of array\n",
    "    # End of array needs to be taken care of \n",
    "    # i = l = -1\n",
    "    i = l = -1\n",
    "    if x + i == 0:\n",
    "        i = len(spin_array) - 2\n",
    "    if y + l == 0:\n",
    "        l = len(spin_array) - 2\n",
    "    #print(x, y)\n",
    "    \n",
    "    #Calculate Energy prior to flip\n",
    "    # Therefore we don't have to sum over the whole grid\n",
    "    # Those are the only contributions to change in energy\n",
    "    s_prior = (hamiltionian(spin_array, [x, y], j, h) + \\\n",
    "              hamiltionian(spin_array, [x+i, y], j, h) + \\\n",
    "              hamiltionian(spin_array, [x, y+l], j, h)) / t \n",
    "    \n",
    "    #Flip Spin\n",
    "    spin_array[x, y] = -spin_array[x, y]\n",
    "    \n",
    "    #Calculate Energy after flip\n",
    "    s_later = (hamiltionian(spin_array, [x, y], j, h) + \\\n",
    "              hamiltionian(spin_array, [x+i, y], j, h) + \\\n",
    "              hamiltionian(spin_array, [x, y+l], j, h)) / t \n",
    "    \n",
    "    #Computing the Energy\n",
    "    delta_s = s_later - s_prior\n",
    "    \n",
    "    if delta_s <= 0:\n",
    "        return(spin_array)\n",
    "    else:\n",
    "        d = rd.randint(0, 1)\n",
    "        # allow small increasing energy\n",
    "        if d > math.exp(-delta_s):\n",
    "            # if energy too high, flip again the spin to keep\n",
    "            # original configuration\n",
    "            spin_array[x, y] = -spin_array[x, y]\n",
    "            \n",
    "        return(spin_array)"
   ]
  },
  {
   "source": [
    "Now these sweeps are executed a lot of times. The next steps are:\n",
    "\n",
    "6. Measure the a relevant property (magnetization, internal energy, etc.)\n",
    "7. Repeat from step 1 (Over time magnetization should converge towards the real value of the observable)"
   ],
   "cell_type": "markdown",
   "metadata": {}
  },
  {
   "cell_type": "code",
   "execution_count": 8,
   "metadata": {},
   "outputs": [],
   "source": [
    "#lambda seems to cause a invalid syntax error \n",
    "def mc_estimate(spin_array, j, h, t, repeats):\n",
    "    for k in range(repeats):\n",
    "        m=np.zeros(repeats)\n",
    "        #normally the number of sweeps could be randomly choosen, but the exercise sheet, as far as I could understand \n",
    "        #was insisting, that lambda=N_x+N_y\n",
    "        for i in range(len(spin_array)*len(spin_array)):\n",
    "            spin_array=sweep(spin_array, j, h, t)\n",
    "    #m[k]=magnetization_random_configurations(spin_array, j, h, t, 0.01)\n",
    "    m[k]=magnetization_smart(spin_array)\n",
    "    return (np.average(m), spin_array)"
   ]
  },
  {
   "source": [
    "## Exercise 2\n",
    "\n",
    "Todo: How does the numerical cost of the calculation of the energy (for a given spin configuration) scale with the system size $\\Lambda$ ? "
   ],
   "cell_type": "markdown",
   "metadata": {}
  },
  {
   "source": [
    "## Exercise 3\n",
    "\n",
    "Todo: Assuming you’ve flipped one spin $s_{i}$, how does the numerical cost of the calculation of the change in energy $\\Delta S$ scale with the system size $\\Lambda$ ?"
   ],
   "cell_type": "markdown",
   "metadata": {}
  },
  {
   "source": [
    "## Exercise 4\n",
    "\n",
    "Todo: What is the significance of the critical coupling $J_c$ ?"
   ],
   "cell_type": "markdown",
   "metadata": {}
  },
  {
   "source": [
    "## Exercise 5\n",
    "\n",
    "Now we can look at how the magnetization changes when the relevant parameters change. We choose different N-value and just see how m is dependent on h.\n",
    "\n",
    "$h \\in [-1, 1]$\n",
    "\n",
    "Also we establish Bootstrapping. We generate multiple monte carlo data sets. The measured value is the mean of sampled data, and the error is the standard deviation. This will be used in all further calculations.\n",
    "\n",
    "\\begin{equation}\n",
    "    value=\\frac{1}{N_{measurements}}\\sum_{measurements} value\n",
    "\\end{equation}\n",
    "\n",
    "\\begin{equation}\n",
    "    value=\\frac{1}{N_{measurements}}\\sum_{measurements} (mean-value)^2\n",
    "\\end{equation}"
   ],
   "cell_type": "markdown",
   "metadata": {}
  },
  {
   "cell_type": "code",
   "execution_count": 12,
   "metadata": {
    "tags": []
   },
   "outputs": [
    {
     "output_type": "error",
     "ename": "KeyboardInterrupt",
     "evalue": "",
     "traceback": [
      "\u001b[0;31m---------------------------------------------------------------------------\u001b[0m",
      "\u001b[0;31mKeyboardInterrupt\u001b[0m                         Traceback (most recent call last)",
      "\u001b[0;32m<ipython-input-12-7b1ee5876444>\u001b[0m in \u001b[0;36m<module>\u001b[0;34m\u001b[0m\n\u001b[1;32m     27\u001b[0m     \u001b[0mplt\u001b[0m\u001b[0;34m.\u001b[0m\u001b[0msavefig\u001b[0m\u001b[0;34m(\u001b[0m\u001b[0;34m\"plot_mean_energy.png\"\u001b[0m\u001b[0;34m)\u001b[0m\u001b[0;34m\u001b[0m\u001b[0;34m\u001b[0m\u001b[0m\n\u001b[1;32m     28\u001b[0m \u001b[0;34m\u001b[0m\u001b[0m\n\u001b[0;32m---> 29\u001b[0;31m \u001b[0mplot_m_h_dependency\u001b[0m\u001b[0;34m(\u001b[0m\u001b[0;36m0.5\u001b[0m\u001b[0;34m,\u001b[0m \u001b[0;36m0.5\u001b[0m\u001b[0;34m,\u001b[0m \u001b[0;36m10\u001b[0m\u001b[0;34m,\u001b[0m \u001b[0;36m5\u001b[0m\u001b[0;34m)\u001b[0m\u001b[0;34m\u001b[0m\u001b[0;34m\u001b[0m\u001b[0m\n\u001b[0m",
      "\u001b[0;32m<ipython-input-12-7b1ee5876444>\u001b[0m in \u001b[0;36mplot_m_h_dependency\u001b[0;34m(j, t, repeats, averaging)\u001b[0m\n\u001b[1;32m     17\u001b[0m         \u001b[0;32mfor\u001b[0m \u001b[0mi\u001b[0m \u001b[0;32min\u001b[0m \u001b[0mrange\u001b[0m\u001b[0;34m(\u001b[0m\u001b[0mlen\u001b[0m\u001b[0;34m(\u001b[0m\u001b[0mh_array\u001b[0m\u001b[0;34m)\u001b[0m\u001b[0;34m)\u001b[0m\u001b[0;34m:\u001b[0m\u001b[0;34m\u001b[0m\u001b[0;34m\u001b[0m\u001b[0m\n\u001b[1;32m     18\u001b[0m             \u001b[0;32mfor\u001b[0m \u001b[0md\u001b[0m \u001b[0;32min\u001b[0m \u001b[0mrange\u001b[0m\u001b[0;34m(\u001b[0m\u001b[0maveraging\u001b[0m\u001b[0;34m)\u001b[0m\u001b[0;34m:\u001b[0m\u001b[0;34m\u001b[0m\u001b[0;34m\u001b[0m\u001b[0m\n\u001b[0;32m---> 19\u001b[0;31m                 \u001b[0mm_array_temp\u001b[0m\u001b[0;34m[\u001b[0m\u001b[0md\u001b[0m\u001b[0;34m]\u001b[0m\u001b[0;34m,\u001b[0m \u001b[0ma\u001b[0m \u001b[0;34m=\u001b[0m \u001b[0mmc_estimate\u001b[0m\u001b[0;34m(\u001b[0m\u001b[0mspin_array_array\u001b[0m\u001b[0;34m[\u001b[0m\u001b[0mk\u001b[0m\u001b[0;34m]\u001b[0m\u001b[0;34m,\u001b[0m \u001b[0mj\u001b[0m\u001b[0;34m,\u001b[0m \u001b[0mh_array\u001b[0m\u001b[0;34m[\u001b[0m\u001b[0mi\u001b[0m\u001b[0;34m]\u001b[0m\u001b[0;34m,\u001b[0m \u001b[0mt\u001b[0m\u001b[0;34m,\u001b[0m \u001b[0mrepeats\u001b[0m\u001b[0;34m)\u001b[0m\u001b[0;34m\u001b[0m\u001b[0;34m\u001b[0m\u001b[0m\n\u001b[0m\u001b[1;32m     20\u001b[0m             \u001b[0mm_array\u001b[0m\u001b[0;34m[\u001b[0m\u001b[0mk\u001b[0m\u001b[0;34m]\u001b[0m\u001b[0;34m[\u001b[0m\u001b[0mi\u001b[0m\u001b[0;34m]\u001b[0m\u001b[0;34m=\u001b[0m\u001b[0mnp\u001b[0m\u001b[0;34m.\u001b[0m\u001b[0maverage\u001b[0m\u001b[0;34m(\u001b[0m\u001b[0mm_array_temp\u001b[0m\u001b[0;34m)\u001b[0m\u001b[0;34m\u001b[0m\u001b[0;34m\u001b[0m\u001b[0m\n\u001b[1;32m     21\u001b[0m             \u001b[0mm_array_error\u001b[0m\u001b[0;34m[\u001b[0m\u001b[0mk\u001b[0m\u001b[0;34m]\u001b[0m\u001b[0;34m[\u001b[0m\u001b[0mi\u001b[0m\u001b[0;34m]\u001b[0m\u001b[0;34m=\u001b[0m\u001b[0mnp\u001b[0m\u001b[0;34m.\u001b[0m\u001b[0mstd\u001b[0m\u001b[0;34m(\u001b[0m\u001b[0mm_array_temp\u001b[0m\u001b[0;34m)\u001b[0m\u001b[0;34m\u001b[0m\u001b[0;34m\u001b[0m\u001b[0m\n",
      "\u001b[0;32m<ipython-input-8-37194c1a73e0>\u001b[0m in \u001b[0;36mmc_estimate\u001b[0;34m(spin_array, j, h, t, repeats)\u001b[0m\n\u001b[1;32m      6\u001b[0m         \u001b[0;31m#was insisting, that lambda=N_x+N_y\u001b[0m\u001b[0;34m\u001b[0m\u001b[0;34m\u001b[0m\u001b[0;34m\u001b[0m\u001b[0m\n\u001b[1;32m      7\u001b[0m         \u001b[0;32mfor\u001b[0m \u001b[0mi\u001b[0m \u001b[0;32min\u001b[0m \u001b[0mrange\u001b[0m\u001b[0;34m(\u001b[0m\u001b[0mlen\u001b[0m\u001b[0;34m(\u001b[0m\u001b[0mspin_array\u001b[0m\u001b[0;34m)\u001b[0m\u001b[0;34m*\u001b[0m\u001b[0mlen\u001b[0m\u001b[0;34m(\u001b[0m\u001b[0mspin_array\u001b[0m\u001b[0;34m)\u001b[0m\u001b[0;34m)\u001b[0m\u001b[0;34m:\u001b[0m\u001b[0;34m\u001b[0m\u001b[0;34m\u001b[0m\u001b[0m\n\u001b[0;32m----> 8\u001b[0;31m             \u001b[0mspin_array\u001b[0m\u001b[0;34m=\u001b[0m\u001b[0msweep\u001b[0m\u001b[0;34m(\u001b[0m\u001b[0mspin_array\u001b[0m\u001b[0;34m,\u001b[0m \u001b[0mj\u001b[0m\u001b[0;34m,\u001b[0m \u001b[0mh\u001b[0m\u001b[0;34m,\u001b[0m \u001b[0mt\u001b[0m\u001b[0;34m)\u001b[0m\u001b[0;34m\u001b[0m\u001b[0;34m\u001b[0m\u001b[0m\n\u001b[0m\u001b[1;32m      9\u001b[0m     \u001b[0;31m#m[k]=magnetization_random_configurations(spin_array, j, h, t, 0.01)\u001b[0m\u001b[0;34m\u001b[0m\u001b[0;34m\u001b[0m\u001b[0;34m\u001b[0m\u001b[0m\n\u001b[1;32m     10\u001b[0m     \u001b[0mm\u001b[0m\u001b[0;34m[\u001b[0m\u001b[0mk\u001b[0m\u001b[0;34m]\u001b[0m\u001b[0;34m=\u001b[0m\u001b[0mmagnetization_smart\u001b[0m\u001b[0;34m(\u001b[0m\u001b[0mspin_array\u001b[0m\u001b[0;34m)\u001b[0m\u001b[0;34m\u001b[0m\u001b[0;34m\u001b[0m\u001b[0m\n",
      "\u001b[0;32m<ipython-input-7-0fd11ecf915a>\u001b[0m in \u001b[0;36msweep\u001b[0;34m(spin_array, j, h, t)\u001b[0m\n\u001b[1;32m     28\u001b[0m     \u001b[0;31m#Calculate Energy after flip\u001b[0m\u001b[0;34m\u001b[0m\u001b[0;34m\u001b[0m\u001b[0;34m\u001b[0m\u001b[0m\n\u001b[1;32m     29\u001b[0m     s_later = (hamiltionian(spin_array, [x, y], j, h) + \\\n\u001b[0;32m---> 30\u001b[0;31m               \u001b[0mhamiltionian\u001b[0m\u001b[0;34m(\u001b[0m\u001b[0mspin_array\u001b[0m\u001b[0;34m,\u001b[0m \u001b[0;34m[\u001b[0m\u001b[0mx\u001b[0m\u001b[0;34m+\u001b[0m\u001b[0mi\u001b[0m\u001b[0;34m,\u001b[0m \u001b[0my\u001b[0m\u001b[0;34m]\u001b[0m\u001b[0;34m,\u001b[0m \u001b[0mj\u001b[0m\u001b[0;34m,\u001b[0m \u001b[0mh\u001b[0m\u001b[0;34m)\u001b[0m \u001b[0;34m+\u001b[0m\u001b[0;31m \u001b[0m\u001b[0;31m\\\u001b[0m\u001b[0;34m\u001b[0m\u001b[0;34m\u001b[0m\u001b[0m\n\u001b[0m\u001b[1;32m     31\u001b[0m               hamiltionian(spin_array, [x, y+l], j, h)) / t \n\u001b[1;32m     32\u001b[0m \u001b[0;34m\u001b[0m\u001b[0m\n",
      "\u001b[0;32m<ipython-input-2-3d4d600dab32>\u001b[0m in \u001b[0;36mhamiltionian\u001b[0;34m(spin_array, position, j, h)\u001b[0m\n\u001b[1;32m      4\u001b[0m     \u001b[0;32mif\u001b[0m \u001b[0mposition\u001b[0m\u001b[0;34m[\u001b[0m\u001b[0;36m0\u001b[0m\u001b[0;34m]\u001b[0m\u001b[0;34m+\u001b[0m\u001b[0;36m1\u001b[0m \u001b[0;34m<\u001b[0m \u001b[0mlen\u001b[0m\u001b[0;34m(\u001b[0m\u001b[0mspin_array\u001b[0m\u001b[0;34m[\u001b[0m\u001b[0;36m0\u001b[0m\u001b[0;34m]\u001b[0m\u001b[0;34m)\u001b[0m\u001b[0;34m-\u001b[0m\u001b[0;36m1\u001b[0m\u001b[0;34m:\u001b[0m\u001b[0;34m\u001b[0m\u001b[0;34m\u001b[0m\u001b[0m\n\u001b[1;32m      5\u001b[0m         \u001b[0mminuend\u001b[0m \u001b[0;34m=\u001b[0m \u001b[0mminuend\u001b[0m \u001b[0;34m+\u001b[0m \u001b[0mspin_array\u001b[0m\u001b[0;34m[\u001b[0m\u001b[0mposition\u001b[0m\u001b[0;34m[\u001b[0m\u001b[0;36m0\u001b[0m\u001b[0;34m]\u001b[0m\u001b[0;34m+\u001b[0m\u001b[0;36m1\u001b[0m\u001b[0;34m]\u001b[0m\u001b[0;34m[\u001b[0m\u001b[0mposition\u001b[0m\u001b[0;34m[\u001b[0m\u001b[0;36m1\u001b[0m\u001b[0;34m]\u001b[0m\u001b[0;34m]\u001b[0m \u001b[0;34m*\u001b[0m \u001b[0mspin_array\u001b[0m\u001b[0;34m[\u001b[0m\u001b[0mposition\u001b[0m\u001b[0;34m[\u001b[0m\u001b[0;36m0\u001b[0m\u001b[0;34m]\u001b[0m\u001b[0;34m]\u001b[0m\u001b[0;34m[\u001b[0m\u001b[0mposition\u001b[0m\u001b[0;34m[\u001b[0m\u001b[0;36m1\u001b[0m\u001b[0;34m]\u001b[0m\u001b[0;34m]\u001b[0m\u001b[0;31m \u001b[0m\u001b[0;31m\\\u001b[0m\u001b[0;34m\u001b[0m\u001b[0;34m\u001b[0m\u001b[0m\n\u001b[0;32m----> 6\u001b[0;31m                           \u001b[0;34m+\u001b[0m \u001b[0mspin_array\u001b[0m\u001b[0;34m[\u001b[0m\u001b[0mposition\u001b[0m\u001b[0;34m[\u001b[0m\u001b[0;36m0\u001b[0m\u001b[0;34m]\u001b[0m\u001b[0;34m-\u001b[0m\u001b[0;36m1\u001b[0m\u001b[0;34m]\u001b[0m\u001b[0;34m[\u001b[0m\u001b[0mposition\u001b[0m\u001b[0;34m[\u001b[0m\u001b[0;36m1\u001b[0m\u001b[0;34m]\u001b[0m\u001b[0;34m]\u001b[0m \u001b[0;34m*\u001b[0m \u001b[0mspin_array\u001b[0m\u001b[0;34m[\u001b[0m\u001b[0mposition\u001b[0m\u001b[0;34m[\u001b[0m\u001b[0;36m0\u001b[0m\u001b[0;34m]\u001b[0m\u001b[0;34m]\u001b[0m\u001b[0;34m[\u001b[0m\u001b[0mposition\u001b[0m\u001b[0;34m[\u001b[0m\u001b[0;36m1\u001b[0m\u001b[0;34m]\u001b[0m\u001b[0;34m]\u001b[0m\u001b[0;34m\u001b[0m\u001b[0;34m\u001b[0m\u001b[0m\n\u001b[0m\u001b[1;32m      7\u001b[0m     \u001b[0;32melse\u001b[0m\u001b[0;34m:\u001b[0m\u001b[0;34m\u001b[0m\u001b[0;34m\u001b[0m\u001b[0m\n\u001b[1;32m      8\u001b[0m         \u001b[0mminuend\u001b[0m \u001b[0;34m=\u001b[0m \u001b[0mminuend\u001b[0m \u001b[0;34m+\u001b[0m \u001b[0mspin_array\u001b[0m\u001b[0;34m[\u001b[0m\u001b[0mposition\u001b[0m\u001b[0;34m[\u001b[0m\u001b[0;36m0\u001b[0m\u001b[0;34m]\u001b[0m\u001b[0;34m-\u001b[0m\u001b[0;36m1\u001b[0m\u001b[0;34m]\u001b[0m\u001b[0;34m[\u001b[0m\u001b[0mposition\u001b[0m\u001b[0;34m[\u001b[0m\u001b[0;36m1\u001b[0m\u001b[0;34m]\u001b[0m\u001b[0;34m]\u001b[0m \u001b[0;34m*\u001b[0m \u001b[0mspin_array\u001b[0m\u001b[0;34m[\u001b[0m\u001b[0mposition\u001b[0m\u001b[0;34m[\u001b[0m\u001b[0;36m0\u001b[0m\u001b[0;34m]\u001b[0m\u001b[0;34m]\u001b[0m\u001b[0;34m[\u001b[0m\u001b[0mposition\u001b[0m\u001b[0;34m[\u001b[0m\u001b[0;36m1\u001b[0m\u001b[0;34m]\u001b[0m\u001b[0;34m]\u001b[0m\u001b[0;31m \u001b[0m\u001b[0;31m\\\u001b[0m\u001b[0;34m\u001b[0m\u001b[0;34m\u001b[0m\u001b[0m\n",
      "\u001b[0;31mKeyboardInterrupt\u001b[0m: "
     ]
    }
   ],
   "source": [
    "def plot_m_h_dependency(j, t, repeats, averaging):\n",
    "    \n",
    "    #The N-Values that are going to be used\n",
    "    N_array=[4, 8, 12, 16]\n",
    "    spin_array_array=[]\n",
    "    for i in N_array:\n",
    "        spin_array_array=spin_array_array+[gen_spin_array(i)]\n",
    "    #We will have all values from -1 to 1 in a 0.05 intervall\n",
    "    h_array=np.arange(-1, 1.01, 0.05)\n",
    "    m_array=np.zeros(len(h_array)*len(N_array)).reshape(len(N_array), len(h_array))\n",
    "    m_array_error=np.zeros(len(h_array)*len(N_array)).reshape(len(N_array), len(h_array))\n",
    "    m_array_temp=np.zeros(averaging)\n",
    "    \n",
    "    #loop over all possible N values ([4, 8, 12, 16])\n",
    "    for k in range(len(N_array)):\n",
    "        #loop over all possible h values\n",
    "        for i in range(len(h_array)):\n",
    "            for d in range(averaging):\n",
    "                m_array_temp[d], a = mc_estimate(spin_array_array[k], j, h_array[i], t, repeats)\n",
    "            m_array[k][i]=np.average(m_array_temp)\n",
    "            m_array_error[k][i]=np.std(m_array_temp)\n",
    "    for k in range(len(N_array)):\n",
    "        plt.errorbar(h_array, m_array[k], yerr=m_array_error[k], label=N_array[k])\n",
    "    plt.xlabel(\"h\")\n",
    "    plt.ylabel(\"m\")\n",
    "    plt.legend(loc=\"best\")\n",
    "    plt.savefig(\"plot_mean_energy.png\")\n",
    "    \n",
    "plot_m_h_dependency(0.5, 0.5, 10, 5)"
   ]
  },
  {
   "source": [
    "## Exercise 6\n",
    "\n",
    "It is also interesting to take a look, at the average energy per site. An analytical solution in the thermodynamic limit is given by:\n",
    "\\begin{equation}\n",
    "    \\epsilon=−J \\coth (2J) (1 + \\frac{2}{\\pi} (2 \\tanh^2(2J)−1)K(4sech^2(2J) tanh^2(2J)))\n",
    "\\end{equation}\n",
    "\n",
    "With K beeing the incomplete elliptic integral of the first kind. This can be calculated by using the formula\n",
    "\n",
    "\\begin{equation}\n",
    "    F(x ; k) = \\int_{0}^{x} \\frac{\\mathrm{d}t}{\\sqrt{\\left(1 - t^2\\right)\\left(1 - k^2 t^2\\right)}}\n",
    "\\end{equation}\n",
    "\n",
    "This formula could be implemented by hand, however in the package scipy we have the function scipy.special.ellipkinc, which calculates the incomplete elliptic integral of the first kind. \n",
    "\n",
    "The mean energy can be implemented by calculating all energies and calculating the mean of it:\n",
    "\n",
    "\n",
    "\n",
    "We only look at a certain j intervall: $j \\in [0.25, 1]$."
   ],
   "cell_type": "markdown",
   "metadata": {}
  },
  {
   "cell_type": "code",
   "execution_count": 10,
   "metadata": {},
   "outputs": [],
   "source": [
    "def mean_energy_analytical(j):\n",
    "    spherical=sp.ellipkinc(math.pi/2, 4*math.cosh(2*j)**-2*math.tanh(2*j)**2)\n",
    "    return (-j*(math.cosh(2*j)/math.sinh(2*j))*(1+2*math.pi*(2*math.tanh(2*j)**2-1)*spherical))\n",
    "\n",
    "def mean_energy_simulated(spin_array, N, j, t):\n",
    "    energy = np.zeros(N*N).reshape(N, N)\n",
    "    spin_array = gen_spin_array(N)\n",
    "    for i in range(N):\n",
    "        for k in range(N):\n",
    "            energy[i][k] = hamiltionian(spin_array, [i, k], j, 0)\n",
    "    return(np.average(energy))"
   ]
  },
  {
   "cell_type": "code",
   "execution_count": 11,
   "metadata": {},
   "outputs": [
    {
     "output_type": "display_data",
     "data": {
      "text/plain": "<Figure size 432x288 with 1 Axes>",
      "image/svg+xml": "<?xml version=\"1.0\" encoding=\"utf-8\" standalone=\"no\"?>\n<!DOCTYPE svg PUBLIC \"-//W3C//DTD SVG 1.1//EN\"\n  \"http://www.w3.org/Graphics/SVG/1.1/DTD/svg11.dtd\">\n<!-- Created with matplotlib (https://matplotlib.org/) -->\n<svg height=\"262.19625pt\" version=\"1.1\" viewBox=\"0 0 390.982812 262.19625\" width=\"390.982812pt\" xmlns=\"http://www.w3.org/2000/svg\" xmlns:xlink=\"http://www.w3.org/1999/xlink\">\n <metadata>\n  <rdf:RDF xmlns:cc=\"http://creativecommons.org/ns#\" xmlns:dc=\"http://purl.org/dc/elements/1.1/\" xmlns:rdf=\"http://www.w3.org/1999/02/22-rdf-syntax-ns#\">\n   <cc:Work>\n    <dc:type rdf:resource=\"http://purl.org/dc/dcmitype/StillImage\"/>\n    <dc:date>2020-11-17T21:59:18.160279</dc:date>\n    <dc:format>image/svg+xml</dc:format>\n    <dc:creator>\n     <cc:Agent>\n      <dc:title>Matplotlib v3.3.2, https://matplotlib.org/</dc:title>\n     </cc:Agent>\n    </dc:creator>\n   </cc:Work>\n  </rdf:RDF>\n </metadata>\n <defs>\n  <style type=\"text/css\">*{stroke-linecap:butt;stroke-linejoin:round;}</style>\n </defs>\n <g id=\"figure_1\">\n  <g id=\"patch_1\">\n   <path d=\"M 0 262.19625 \nL 390.982812 262.19625 \nL 390.982812 0 \nL 0 0 \nz\n\" style=\"fill:none;\"/>\n  </g>\n  <g id=\"axes_1\">\n   <g id=\"patch_2\">\n    <path d=\"M 48.982813 224.64 \nL 383.782813 224.64 \nL 383.782813 7.2 \nL 48.982813 7.2 \nz\n\" style=\"fill:#ffffff;\"/>\n   </g>\n   <g id=\"matplotlib.axis_1\">\n    <g id=\"xtick_1\">\n     <g id=\"line2d_1\">\n      <defs>\n       <path d=\"M 0 0 \nL 0 3.5 \n\" id=\"mdeb5713f2b\" style=\"stroke:#000000;stroke-width:0.8;\"/>\n      </defs>\n      <g>\n       <use style=\"stroke:#000000;stroke-width:0.8;\" x=\"84.491903\" xlink:href=\"#mdeb5713f2b\" y=\"224.64\"/>\n      </g>\n     </g>\n     <g id=\"text_1\">\n      <!-- 0.3 -->\n      <g transform=\"translate(76.540341 239.238437)scale(0.1 -0.1)\">\n       <defs>\n        <path d=\"M 31.78125 66.40625 \nQ 24.171875 66.40625 20.328125 58.90625 \nQ 16.5 51.421875 16.5 36.375 \nQ 16.5 21.390625 20.328125 13.890625 \nQ 24.171875 6.390625 31.78125 6.390625 \nQ 39.453125 6.390625 43.28125 13.890625 \nQ 47.125 21.390625 47.125 36.375 \nQ 47.125 51.421875 43.28125 58.90625 \nQ 39.453125 66.40625 31.78125 66.40625 \nz\nM 31.78125 74.21875 \nQ 44.046875 74.21875 50.515625 64.515625 \nQ 56.984375 54.828125 56.984375 36.375 \nQ 56.984375 17.96875 50.515625 8.265625 \nQ 44.046875 -1.421875 31.78125 -1.421875 \nQ 19.53125 -1.421875 13.0625 8.265625 \nQ 6.59375 17.96875 6.59375 36.375 \nQ 6.59375 54.828125 13.0625 64.515625 \nQ 19.53125 74.21875 31.78125 74.21875 \nz\n\" id=\"DejaVuSans-48\"/>\n        <path d=\"M 10.6875 12.40625 \nL 21 12.40625 \nL 21 0 \nL 10.6875 0 \nz\n\" id=\"DejaVuSans-46\"/>\n        <path d=\"M 40.578125 39.3125 \nQ 47.65625 37.796875 51.625 33 \nQ 55.609375 28.21875 55.609375 21.1875 \nQ 55.609375 10.40625 48.1875 4.484375 \nQ 40.765625 -1.421875 27.09375 -1.421875 \nQ 22.515625 -1.421875 17.65625 -0.515625 \nQ 12.796875 0.390625 7.625 2.203125 \nL 7.625 11.71875 \nQ 11.71875 9.328125 16.59375 8.109375 \nQ 21.484375 6.890625 26.8125 6.890625 \nQ 36.078125 6.890625 40.9375 10.546875 \nQ 45.796875 14.203125 45.796875 21.1875 \nQ 45.796875 27.640625 41.28125 31.265625 \nQ 36.765625 34.90625 28.71875 34.90625 \nL 20.21875 34.90625 \nL 20.21875 43.015625 \nL 29.109375 43.015625 \nQ 36.375 43.015625 40.234375 45.921875 \nQ 44.09375 48.828125 44.09375 54.296875 \nQ 44.09375 59.90625 40.109375 62.90625 \nQ 36.140625 65.921875 28.71875 65.921875 \nQ 24.65625 65.921875 20.015625 65.03125 \nQ 15.375 64.15625 9.8125 62.3125 \nL 9.8125 71.09375 \nQ 15.4375 72.65625 20.34375 73.4375 \nQ 25.25 74.21875 29.59375 74.21875 \nQ 40.828125 74.21875 47.359375 69.109375 \nQ 53.90625 64.015625 53.90625 55.328125 \nQ 53.90625 49.265625 50.4375 45.09375 \nQ 46.96875 40.921875 40.578125 39.3125 \nz\n\" id=\"DejaVuSans-51\"/>\n       </defs>\n       <use xlink:href=\"#DejaVuSans-48\"/>\n       <use x=\"63.623047\" xlink:href=\"#DejaVuSans-46\"/>\n       <use x=\"95.410156\" xlink:href=\"#DejaVuSans-51\"/>\n      </g>\n     </g>\n    </g>\n    <g id=\"xtick_2\">\n     <g id=\"line2d_2\">\n      <g>\n       <use style=\"stroke:#000000;stroke-width:0.8;\" x=\"125.073722\" xlink:href=\"#mdeb5713f2b\" y=\"224.64\"/>\n      </g>\n     </g>\n     <g id=\"text_2\">\n      <!-- 0.4 -->\n      <g transform=\"translate(117.122159 239.238437)scale(0.1 -0.1)\">\n       <defs>\n        <path d=\"M 37.796875 64.3125 \nL 12.890625 25.390625 \nL 37.796875 25.390625 \nz\nM 35.203125 72.90625 \nL 47.609375 72.90625 \nL 47.609375 25.390625 \nL 58.015625 25.390625 \nL 58.015625 17.1875 \nL 47.609375 17.1875 \nL 47.609375 0 \nL 37.796875 0 \nL 37.796875 17.1875 \nL 4.890625 17.1875 \nL 4.890625 26.703125 \nz\n\" id=\"DejaVuSans-52\"/>\n       </defs>\n       <use xlink:href=\"#DejaVuSans-48\"/>\n       <use x=\"63.623047\" xlink:href=\"#DejaVuSans-46\"/>\n       <use x=\"95.410156\" xlink:href=\"#DejaVuSans-52\"/>\n      </g>\n     </g>\n    </g>\n    <g id=\"xtick_3\">\n     <g id=\"line2d_3\">\n      <g>\n       <use style=\"stroke:#000000;stroke-width:0.8;\" x=\"165.65554\" xlink:href=\"#mdeb5713f2b\" y=\"224.64\"/>\n      </g>\n     </g>\n     <g id=\"text_3\">\n      <!-- 0.5 -->\n      <g transform=\"translate(157.703977 239.238437)scale(0.1 -0.1)\">\n       <defs>\n        <path d=\"M 10.796875 72.90625 \nL 49.515625 72.90625 \nL 49.515625 64.59375 \nL 19.828125 64.59375 \nL 19.828125 46.734375 \nQ 21.96875 47.46875 24.109375 47.828125 \nQ 26.265625 48.1875 28.421875 48.1875 \nQ 40.625 48.1875 47.75 41.5 \nQ 54.890625 34.8125 54.890625 23.390625 \nQ 54.890625 11.625 47.5625 5.09375 \nQ 40.234375 -1.421875 26.90625 -1.421875 \nQ 22.3125 -1.421875 17.546875 -0.640625 \nQ 12.796875 0.140625 7.71875 1.703125 \nL 7.71875 11.625 \nQ 12.109375 9.234375 16.796875 8.0625 \nQ 21.484375 6.890625 26.703125 6.890625 \nQ 35.15625 6.890625 40.078125 11.328125 \nQ 45.015625 15.765625 45.015625 23.390625 \nQ 45.015625 31 40.078125 35.4375 \nQ 35.15625 39.890625 26.703125 39.890625 \nQ 22.75 39.890625 18.8125 39.015625 \nQ 14.890625 38.140625 10.796875 36.28125 \nz\n\" id=\"DejaVuSans-53\"/>\n       </defs>\n       <use xlink:href=\"#DejaVuSans-48\"/>\n       <use x=\"63.623047\" xlink:href=\"#DejaVuSans-46\"/>\n       <use x=\"95.410156\" xlink:href=\"#DejaVuSans-53\"/>\n      </g>\n     </g>\n    </g>\n    <g id=\"xtick_4\">\n     <g id=\"line2d_4\">\n      <g>\n       <use style=\"stroke:#000000;stroke-width:0.8;\" x=\"206.237358\" xlink:href=\"#mdeb5713f2b\" y=\"224.64\"/>\n      </g>\n     </g>\n     <g id=\"text_4\">\n      <!-- 0.6 -->\n      <g transform=\"translate(198.285795 239.238437)scale(0.1 -0.1)\">\n       <defs>\n        <path d=\"M 33.015625 40.375 \nQ 26.375 40.375 22.484375 35.828125 \nQ 18.609375 31.296875 18.609375 23.390625 \nQ 18.609375 15.53125 22.484375 10.953125 \nQ 26.375 6.390625 33.015625 6.390625 \nQ 39.65625 6.390625 43.53125 10.953125 \nQ 47.40625 15.53125 47.40625 23.390625 \nQ 47.40625 31.296875 43.53125 35.828125 \nQ 39.65625 40.375 33.015625 40.375 \nz\nM 52.59375 71.296875 \nL 52.59375 62.3125 \nQ 48.875 64.0625 45.09375 64.984375 \nQ 41.3125 65.921875 37.59375 65.921875 \nQ 27.828125 65.921875 22.671875 59.328125 \nQ 17.53125 52.734375 16.796875 39.40625 \nQ 19.671875 43.65625 24.015625 45.921875 \nQ 28.375 48.1875 33.59375 48.1875 \nQ 44.578125 48.1875 50.953125 41.515625 \nQ 57.328125 34.859375 57.328125 23.390625 \nQ 57.328125 12.15625 50.6875 5.359375 \nQ 44.046875 -1.421875 33.015625 -1.421875 \nQ 20.359375 -1.421875 13.671875 8.265625 \nQ 6.984375 17.96875 6.984375 36.375 \nQ 6.984375 53.65625 15.1875 63.9375 \nQ 23.390625 74.21875 37.203125 74.21875 \nQ 40.921875 74.21875 44.703125 73.484375 \nQ 48.484375 72.75 52.59375 71.296875 \nz\n\" id=\"DejaVuSans-54\"/>\n       </defs>\n       <use xlink:href=\"#DejaVuSans-48\"/>\n       <use x=\"63.623047\" xlink:href=\"#DejaVuSans-46\"/>\n       <use x=\"95.410156\" xlink:href=\"#DejaVuSans-54\"/>\n      </g>\n     </g>\n    </g>\n    <g id=\"xtick_5\">\n     <g id=\"line2d_5\">\n      <g>\n       <use style=\"stroke:#000000;stroke-width:0.8;\" x=\"246.819176\" xlink:href=\"#mdeb5713f2b\" y=\"224.64\"/>\n      </g>\n     </g>\n     <g id=\"text_5\">\n      <!-- 0.7 -->\n      <g transform=\"translate(238.867614 239.238437)scale(0.1 -0.1)\">\n       <defs>\n        <path d=\"M 8.203125 72.90625 \nL 55.078125 72.90625 \nL 55.078125 68.703125 \nL 28.609375 0 \nL 18.3125 0 \nL 43.21875 64.59375 \nL 8.203125 64.59375 \nz\n\" id=\"DejaVuSans-55\"/>\n       </defs>\n       <use xlink:href=\"#DejaVuSans-48\"/>\n       <use x=\"63.623047\" xlink:href=\"#DejaVuSans-46\"/>\n       <use x=\"95.410156\" xlink:href=\"#DejaVuSans-55\"/>\n      </g>\n     </g>\n    </g>\n    <g id=\"xtick_6\">\n     <g id=\"line2d_6\">\n      <g>\n       <use style=\"stroke:#000000;stroke-width:0.8;\" x=\"287.400994\" xlink:href=\"#mdeb5713f2b\" y=\"224.64\"/>\n      </g>\n     </g>\n     <g id=\"text_6\">\n      <!-- 0.8 -->\n      <g transform=\"translate(279.449432 239.238437)scale(0.1 -0.1)\">\n       <defs>\n        <path d=\"M 31.78125 34.625 \nQ 24.75 34.625 20.71875 30.859375 \nQ 16.703125 27.09375 16.703125 20.515625 \nQ 16.703125 13.921875 20.71875 10.15625 \nQ 24.75 6.390625 31.78125 6.390625 \nQ 38.8125 6.390625 42.859375 10.171875 \nQ 46.921875 13.96875 46.921875 20.515625 \nQ 46.921875 27.09375 42.890625 30.859375 \nQ 38.875 34.625 31.78125 34.625 \nz\nM 21.921875 38.8125 \nQ 15.578125 40.375 12.03125 44.71875 \nQ 8.5 49.078125 8.5 55.328125 \nQ 8.5 64.0625 14.71875 69.140625 \nQ 20.953125 74.21875 31.78125 74.21875 \nQ 42.671875 74.21875 48.875 69.140625 \nQ 55.078125 64.0625 55.078125 55.328125 \nQ 55.078125 49.078125 51.53125 44.71875 \nQ 48 40.375 41.703125 38.8125 \nQ 48.828125 37.15625 52.796875 32.3125 \nQ 56.78125 27.484375 56.78125 20.515625 \nQ 56.78125 9.90625 50.3125 4.234375 \nQ 43.84375 -1.421875 31.78125 -1.421875 \nQ 19.734375 -1.421875 13.25 4.234375 \nQ 6.78125 9.90625 6.78125 20.515625 \nQ 6.78125 27.484375 10.78125 32.3125 \nQ 14.796875 37.15625 21.921875 38.8125 \nz\nM 18.3125 54.390625 \nQ 18.3125 48.734375 21.84375 45.5625 \nQ 25.390625 42.390625 31.78125 42.390625 \nQ 38.140625 42.390625 41.71875 45.5625 \nQ 45.3125 48.734375 45.3125 54.390625 \nQ 45.3125 60.0625 41.71875 63.234375 \nQ 38.140625 66.40625 31.78125 66.40625 \nQ 25.390625 66.40625 21.84375 63.234375 \nQ 18.3125 60.0625 18.3125 54.390625 \nz\n\" id=\"DejaVuSans-56\"/>\n       </defs>\n       <use xlink:href=\"#DejaVuSans-48\"/>\n       <use x=\"63.623047\" xlink:href=\"#DejaVuSans-46\"/>\n       <use x=\"95.410156\" xlink:href=\"#DejaVuSans-56\"/>\n      </g>\n     </g>\n    </g>\n    <g id=\"xtick_7\">\n     <g id=\"line2d_7\">\n      <g>\n       <use style=\"stroke:#000000;stroke-width:0.8;\" x=\"327.982812\" xlink:href=\"#mdeb5713f2b\" y=\"224.64\"/>\n      </g>\n     </g>\n     <g id=\"text_7\">\n      <!-- 0.9 -->\n      <g transform=\"translate(320.03125 239.238437)scale(0.1 -0.1)\">\n       <defs>\n        <path d=\"M 10.984375 1.515625 \nL 10.984375 10.5 \nQ 14.703125 8.734375 18.5 7.8125 \nQ 22.3125 6.890625 25.984375 6.890625 \nQ 35.75 6.890625 40.890625 13.453125 \nQ 46.046875 20.015625 46.78125 33.40625 \nQ 43.953125 29.203125 39.59375 26.953125 \nQ 35.25 24.703125 29.984375 24.703125 \nQ 19.046875 24.703125 12.671875 31.3125 \nQ 6.296875 37.9375 6.296875 49.421875 \nQ 6.296875 60.640625 12.9375 67.421875 \nQ 19.578125 74.21875 30.609375 74.21875 \nQ 43.265625 74.21875 49.921875 64.515625 \nQ 56.59375 54.828125 56.59375 36.375 \nQ 56.59375 19.140625 48.40625 8.859375 \nQ 40.234375 -1.421875 26.421875 -1.421875 \nQ 22.703125 -1.421875 18.890625 -0.6875 \nQ 15.09375 0.046875 10.984375 1.515625 \nz\nM 30.609375 32.421875 \nQ 37.25 32.421875 41.125 36.953125 \nQ 45.015625 41.5 45.015625 49.421875 \nQ 45.015625 57.28125 41.125 61.84375 \nQ 37.25 66.40625 30.609375 66.40625 \nQ 23.96875 66.40625 20.09375 61.84375 \nQ 16.21875 57.28125 16.21875 49.421875 \nQ 16.21875 41.5 20.09375 36.953125 \nQ 23.96875 32.421875 30.609375 32.421875 \nz\n\" id=\"DejaVuSans-57\"/>\n       </defs>\n       <use xlink:href=\"#DejaVuSans-48\"/>\n       <use x=\"63.623047\" xlink:href=\"#DejaVuSans-46\"/>\n       <use x=\"95.410156\" xlink:href=\"#DejaVuSans-57\"/>\n      </g>\n     </g>\n    </g>\n    <g id=\"xtick_8\">\n     <g id=\"line2d_8\">\n      <g>\n       <use style=\"stroke:#000000;stroke-width:0.8;\" x=\"368.564631\" xlink:href=\"#mdeb5713f2b\" y=\"224.64\"/>\n      </g>\n     </g>\n     <g id=\"text_8\">\n      <!-- 1.0 -->\n      <g transform=\"translate(360.613068 239.238437)scale(0.1 -0.1)\">\n       <defs>\n        <path d=\"M 12.40625 8.296875 \nL 28.515625 8.296875 \nL 28.515625 63.921875 \nL 10.984375 60.40625 \nL 10.984375 69.390625 \nL 28.421875 72.90625 \nL 38.28125 72.90625 \nL 38.28125 8.296875 \nL 54.390625 8.296875 \nL 54.390625 0 \nL 12.40625 0 \nz\n\" id=\"DejaVuSans-49\"/>\n       </defs>\n       <use xlink:href=\"#DejaVuSans-49\"/>\n       <use x=\"63.623047\" xlink:href=\"#DejaVuSans-46\"/>\n       <use x=\"95.410156\" xlink:href=\"#DejaVuSans-48\"/>\n      </g>\n     </g>\n    </g>\n    <g id=\"text_9\">\n     <!-- j -->\n     <g transform=\"translate(214.99375 252.916562)scale(0.1 -0.1)\">\n      <defs>\n       <path d=\"M 9.421875 54.6875 \nL 18.40625 54.6875 \nL 18.40625 -0.984375 \nQ 18.40625 -11.421875 14.421875 -16.109375 \nQ 10.453125 -20.796875 1.609375 -20.796875 \nL -1.8125 -20.796875 \nL -1.8125 -13.1875 \nL 0.59375 -13.1875 \nQ 5.71875 -13.1875 7.5625 -10.8125 \nQ 9.421875 -8.453125 9.421875 -0.984375 \nz\nM 9.421875 75.984375 \nL 18.40625 75.984375 \nL 18.40625 64.59375 \nL 9.421875 64.59375 \nz\n\" id=\"DejaVuSans-106\"/>\n      </defs>\n      <use xlink:href=\"#DejaVuSans-106\"/>\n     </g>\n    </g>\n   </g>\n   <g id=\"matplotlib.axis_2\">\n    <g id=\"ytick_1\">\n     <g id=\"line2d_9\">\n      <defs>\n       <path d=\"M 0 0 \nL -3.5 0 \n\" id=\"m0295c33b85\" style=\"stroke:#000000;stroke-width:0.8;\"/>\n      </defs>\n      <g>\n       <use style=\"stroke:#000000;stroke-width:0.8;\" x=\"48.982813\" xlink:href=\"#m0295c33b85\" y=\"202.401818\"/>\n      </g>\n     </g>\n     <g id=\"text_10\">\n      <!-- −30 -->\n      <g transform=\"translate(20.878125 206.201037)scale(0.1 -0.1)\">\n       <defs>\n        <path d=\"M 10.59375 35.5 \nL 73.1875 35.5 \nL 73.1875 27.203125 \nL 10.59375 27.203125 \nz\n\" id=\"DejaVuSans-8722\"/>\n       </defs>\n       <use xlink:href=\"#DejaVuSans-8722\"/>\n       <use x=\"83.789062\" xlink:href=\"#DejaVuSans-51\"/>\n       <use x=\"147.412109\" xlink:href=\"#DejaVuSans-48\"/>\n      </g>\n     </g>\n    </g>\n    <g id=\"ytick_2\">\n     <g id=\"line2d_10\">\n      <g>\n       <use style=\"stroke:#000000;stroke-width:0.8;\" x=\"48.982813\" xlink:href=\"#m0295c33b85\" y=\"170.540096\"/>\n      </g>\n     </g>\n     <g id=\"text_11\">\n      <!-- −20 -->\n      <g transform=\"translate(20.878125 174.339314)scale(0.1 -0.1)\">\n       <defs>\n        <path d=\"M 19.1875 8.296875 \nL 53.609375 8.296875 \nL 53.609375 0 \nL 7.328125 0 \nL 7.328125 8.296875 \nQ 12.9375 14.109375 22.625 23.890625 \nQ 32.328125 33.6875 34.8125 36.53125 \nQ 39.546875 41.84375 41.421875 45.53125 \nQ 43.3125 49.21875 43.3125 52.78125 \nQ 43.3125 58.59375 39.234375 62.25 \nQ 35.15625 65.921875 28.609375 65.921875 \nQ 23.96875 65.921875 18.8125 64.3125 \nQ 13.671875 62.703125 7.8125 59.421875 \nL 7.8125 69.390625 \nQ 13.765625 71.78125 18.9375 73 \nQ 24.125 74.21875 28.421875 74.21875 \nQ 39.75 74.21875 46.484375 68.546875 \nQ 53.21875 62.890625 53.21875 53.421875 \nQ 53.21875 48.921875 51.53125 44.890625 \nQ 49.859375 40.875 45.40625 35.40625 \nQ 44.1875 33.984375 37.640625 27.21875 \nQ 31.109375 20.453125 19.1875 8.296875 \nz\n\" id=\"DejaVuSans-50\"/>\n       </defs>\n       <use xlink:href=\"#DejaVuSans-8722\"/>\n       <use x=\"83.789062\" xlink:href=\"#DejaVuSans-50\"/>\n       <use x=\"147.412109\" xlink:href=\"#DejaVuSans-48\"/>\n      </g>\n     </g>\n    </g>\n    <g id=\"ytick_3\">\n     <g id=\"line2d_11\">\n      <g>\n       <use style=\"stroke:#000000;stroke-width:0.8;\" x=\"48.982813\" xlink:href=\"#m0295c33b85\" y=\"138.678373\"/>\n      </g>\n     </g>\n     <g id=\"text_12\">\n      <!-- −10 -->\n      <g transform=\"translate(20.878125 142.477592)scale(0.1 -0.1)\">\n       <use xlink:href=\"#DejaVuSans-8722\"/>\n       <use x=\"83.789062\" xlink:href=\"#DejaVuSans-49\"/>\n       <use x=\"147.412109\" xlink:href=\"#DejaVuSans-48\"/>\n      </g>\n     </g>\n    </g>\n    <g id=\"ytick_4\">\n     <g id=\"line2d_12\">\n      <g>\n       <use style=\"stroke:#000000;stroke-width:0.8;\" x=\"48.982813\" xlink:href=\"#m0295c33b85\" y=\"106.816651\"/>\n      </g>\n     </g>\n     <g id=\"text_13\">\n      <!-- 0 -->\n      <g transform=\"translate(35.620312 110.615869)scale(0.1 -0.1)\">\n       <use xlink:href=\"#DejaVuSans-48\"/>\n      </g>\n     </g>\n    </g>\n    <g id=\"ytick_5\">\n     <g id=\"line2d_13\">\n      <g>\n       <use style=\"stroke:#000000;stroke-width:0.8;\" x=\"48.982813\" xlink:href=\"#m0295c33b85\" y=\"74.954928\"/>\n      </g>\n     </g>\n     <g id=\"text_14\">\n      <!-- 10 -->\n      <g transform=\"translate(29.257812 78.754147)scale(0.1 -0.1)\">\n       <use xlink:href=\"#DejaVuSans-49\"/>\n       <use x=\"63.623047\" xlink:href=\"#DejaVuSans-48\"/>\n      </g>\n     </g>\n    </g>\n    <g id=\"ytick_6\">\n     <g id=\"line2d_14\">\n      <g>\n       <use style=\"stroke:#000000;stroke-width:0.8;\" x=\"48.982813\" xlink:href=\"#m0295c33b85\" y=\"43.093206\"/>\n      </g>\n     </g>\n     <g id=\"text_15\">\n      <!-- 20 -->\n      <g transform=\"translate(29.257812 46.892424)scale(0.1 -0.1)\">\n       <use xlink:href=\"#DejaVuSans-50\"/>\n       <use x=\"63.623047\" xlink:href=\"#DejaVuSans-48\"/>\n      </g>\n     </g>\n    </g>\n    <g id=\"ytick_7\">\n     <g id=\"line2d_15\">\n      <g>\n       <use style=\"stroke:#000000;stroke-width:0.8;\" x=\"48.982813\" xlink:href=\"#m0295c33b85\" y=\"11.231483\"/>\n      </g>\n     </g>\n     <g id=\"text_16\">\n      <!-- 30 -->\n      <g transform=\"translate(29.257812 15.030702)scale(0.1 -0.1)\">\n       <use xlink:href=\"#DejaVuSans-51\"/>\n       <use x=\"63.623047\" xlink:href=\"#DejaVuSans-48\"/>\n      </g>\n     </g>\n    </g>\n    <g id=\"text_17\">\n     <!-- e -->\n     <g transform=\"translate(14.798438 118.996562)rotate(-90)scale(0.1 -0.1)\">\n      <defs>\n       <path d=\"M 56.203125 29.59375 \nL 56.203125 25.203125 \nL 14.890625 25.203125 \nQ 15.484375 15.921875 20.484375 11.0625 \nQ 25.484375 6.203125 34.421875 6.203125 \nQ 39.59375 6.203125 44.453125 7.46875 \nQ 49.3125 8.734375 54.109375 11.28125 \nL 54.109375 2.78125 \nQ 49.265625 0.734375 44.1875 -0.34375 \nQ 39.109375 -1.421875 33.890625 -1.421875 \nQ 20.796875 -1.421875 13.15625 6.1875 \nQ 5.515625 13.8125 5.515625 26.8125 \nQ 5.515625 40.234375 12.765625 48.109375 \nQ 20.015625 56 32.328125 56 \nQ 43.359375 56 49.78125 48.890625 \nQ 56.203125 41.796875 56.203125 29.59375 \nz\nM 47.21875 32.234375 \nQ 47.125 39.59375 43.09375 43.984375 \nQ 39.0625 48.390625 32.421875 48.390625 \nQ 24.90625 48.390625 20.390625 44.140625 \nQ 15.875 39.890625 15.1875 32.171875 \nz\n\" id=\"DejaVuSans-101\"/>\n      </defs>\n      <use xlink:href=\"#DejaVuSans-101\"/>\n     </g>\n    </g>\n   </g>\n   <g id=\"line2d_16\">\n    <path clip-path=\"url(#p4ce1d0b476)\" d=\"M 64.200994 95.909304 \nL 68.259176 96.21862 \nL 72.317358 96.548583 \nL 76.37554 96.900527 \nL 80.433722 97.275944 \nL 84.491903 97.676508 \nL 88.550085 98.104118 \nL 92.608267 98.560945 \nL 96.666449 99.049496 \nL 100.724631 99.572703 \nL 104.782813 100.134051 \nL 108.840994 100.737749 \nL 112.899176 101.389005 \nL 116.957358 102.094447 \nL 121.01554 102.862821 \nL 125.073722 103.706266 \nL 129.131903 104.64287 \nL 133.190085 105.702772 \nL 137.248267 106.947602 \nL 141.306449 108.616295 \nL 145.364631 110.473643 \nL 149.422813 111.780451 \nL 153.480994 112.904602 \nL 157.539176 113.915005 \nL 161.597358 114.843644 \nL 165.65554 115.709143 \nL 169.713722 116.523714 \nL 173.771903 117.295981 \nL 177.830085 118.032352 \nL 181.888267 118.737772 \nL 185.946449 119.416167 \nL 190.004631 120.070723 \nL 194.062813 120.704074 \nL 198.120994 121.31843 \nL 202.179176 121.915669 \nL 206.237358 122.497401 \nL 210.29554 123.065024 \nL 214.353722 123.619757 \nL 218.411903 124.162671 \nL 222.470085 124.694715 \nL 226.528267 125.216733 \nL 230.586449 125.729477 \nL 234.644631 126.233624 \nL 238.702812 126.729785 \nL 242.760994 127.218508 \nL 246.819176 127.700296 \nL 250.877358 128.175602 \nL 254.93554 128.644841 \nL 258.993722 129.108395 \nL 263.051903 129.566609 \nL 267.110085 130.019805 \nL 271.168267 130.468278 \nL 275.226449 130.912298 \nL 279.284631 131.352118 \nL 283.342812 131.78797 \nL 287.400994 132.22007 \nL 291.459176 132.648618 \nL 295.517358 133.073801 \nL 299.57554 133.495792 \nL 303.633722 133.914755 \nL 307.691903 134.330839 \nL 311.750085 134.744187 \nL 315.808267 135.154931 \nL 319.866449 135.563195 \nL 323.924631 135.969096 \nL 327.982813 136.372744 \nL 332.040994 136.774241 \nL 336.099176 137.173684 \nL 340.157358 137.571166 \nL 344.21554 137.966771 \nL 348.273722 138.360582 \nL 352.331903 138.752675 \nL 356.390085 139.143122 \nL 360.448267 139.531994 \nL 364.506449 139.919354 \nL 368.564631 140.305264 \n\" style=\"fill:none;stroke:#1f77b4;stroke-linecap:square;stroke-width:1.5;\"/>\n   </g>\n   <g id=\"line2d_17\">\n    <path clip-path=\"url(#p4ce1d0b476)\" d=\"M 64.200994 102.915215 \nL 84.491903 106.036364 \nL 104.782812 88.154785 \nL 125.073722 140.629091 \nL 145.364631 107.987081 \nL 165.65554 146.481244 \nL 185.946449 107.531914 \nL 206.237358 17.083636 \nL 226.528267 110.197895 \nL 246.819176 128.664689 \nL 267.110085 191.672871 \nL 287.400994 106.816651 \nL 307.691903 93.55177 \nL 327.982812 110.327943 \nL 348.273722 168.589378 \nL 368.564631 214.756364 \n\" style=\"fill:none;stroke:#ff7f0e;stroke-linecap:square;stroke-width:1.5;\"/>\n   </g>\n   <g id=\"line2d_18\">\n    <path clip-path=\"url(#p4ce1d0b476)\" d=\"M 64.200994 134.070273 \nL 84.491903 102.86685 \nL 104.782812 111.977723 \nL 125.073722 110.187147 \nL 145.364631 92.360382 \nL 165.65554 122.879172 \nL 185.946449 104.209783 \nL 206.237358 135.887181 \nL 226.528267 118.11308 \nL 246.819176 119.350684 \nL 267.110085 89.437529 \nL 287.400994 117.349452 \nL 307.691903 148.447546 \nL 327.982812 79.326041 \nL 348.273722 150.843758 \nL 368.564631 81.537929 \n\" style=\"fill:none;stroke:#2ca02c;stroke-linecap:square;stroke-width:1.5;\"/>\n   </g>\n   <g id=\"line2d_19\">\n    <path clip-path=\"url(#p4ce1d0b476)\" d=\"M 64.200994 111.560507 \nL 84.491903 110.470128 \nL 104.782812 117.224813 \nL 125.073722 103.984498 \nL 145.364631 88.464299 \nL 165.65554 99.59466 \nL 185.946449 101.520524 \nL 206.237358 105.967005 \nL 226.528267 110.68254 \nL 246.819176 84.216069 \nL 267.110085 126.78333 \nL 287.400994 104.097784 \nL 307.691903 110.186913 \nL 327.982812 115.992827 \nL 348.273722 110.852469 \nL 368.564631 78.211904 \n\" style=\"fill:none;stroke:#d62728;stroke-linecap:square;stroke-width:1.5;\"/>\n   </g>\n   <g id=\"line2d_20\">\n    <path clip-path=\"url(#p4ce1d0b476)\" d=\"M 64.200994 102.977357 \nL 84.491903 105.916403 \nL 104.782812 101.07095 \nL 125.073722 113.171343 \nL 145.364631 138.669547 \nL 165.65554 100.461958 \nL 185.946449 108.564191 \nL 206.237358 127.469402 \nL 226.528267 106.701913 \nL 246.819176 112.50057 \nL 267.110085 83.516111 \nL 287.400994 100.885604 \nL 307.691903 113.718553 \nL 327.982812 102.527233 \nL 348.273722 94.239655 \nL 368.564631 102.756708 \n\" style=\"fill:none;stroke:#9467bd;stroke-linecap:square;stroke-width:1.5;\"/>\n   </g>\n   <g id=\"patch_3\">\n    <path d=\"M 48.982813 224.64 \nL 48.982813 7.2 \n\" style=\"fill:none;stroke:#000000;stroke-linecap:square;stroke-linejoin:miter;stroke-width:0.8;\"/>\n   </g>\n   <g id=\"patch_4\">\n    <path d=\"M 383.782813 224.64 \nL 383.782813 7.2 \n\" style=\"fill:none;stroke:#000000;stroke-linecap:square;stroke-linejoin:miter;stroke-width:0.8;\"/>\n   </g>\n   <g id=\"patch_5\">\n    <path d=\"M 48.982813 224.64 \nL 383.782813 224.64 \n\" style=\"fill:none;stroke:#000000;stroke-linecap:square;stroke-linejoin:miter;stroke-width:0.8;\"/>\n   </g>\n   <g id=\"patch_6\">\n    <path d=\"M 48.982813 7.2 \nL 383.782813 7.2 \n\" style=\"fill:none;stroke:#000000;stroke-linecap:square;stroke-linejoin:miter;stroke-width:0.8;\"/>\n   </g>\n   <g id=\"legend_1\">\n    <g id=\"patch_7\">\n     <path d=\"M 332.057813 73.9125 \nL 376.782813 73.9125 \nQ 378.782813 73.9125 378.782813 71.9125 \nL 378.782813 14.2 \nQ 378.782813 12.2 376.782813 12.2 \nL 332.057813 12.2 \nQ 330.057813 12.2 330.057813 14.2 \nL 330.057813 71.9125 \nQ 330.057813 73.9125 332.057813 73.9125 \nz\n\" style=\"fill:#ffffff;opacity:0.8;stroke:#cccccc;stroke-linejoin:miter;\"/>\n    </g>\n    <g id=\"line2d_21\">\n     <path d=\"M 334.057813 20.298437 \nL 354.057813 20.298437 \n\" style=\"fill:none;stroke:#ff7f0e;stroke-linecap:square;stroke-width:1.5;\"/>\n    </g>\n    <g id=\"line2d_22\"/>\n    <g id=\"text_18\">\n     <!-- 7 -->\n     <g transform=\"translate(362.057813 23.798437)scale(0.1 -0.1)\">\n      <use xlink:href=\"#DejaVuSans-55\"/>\n     </g>\n    </g>\n    <g id=\"line2d_23\">\n     <path d=\"M 334.057813 34.976562 \nL 354.057813 34.976562 \n\" style=\"fill:none;stroke:#2ca02c;stroke-linecap:square;stroke-width:1.5;\"/>\n    </g>\n    <g id=\"line2d_24\"/>\n    <g id=\"text_19\">\n     <!-- 11 -->\n     <g transform=\"translate(362.057813 38.476562)scale(0.1 -0.1)\">\n      <use xlink:href=\"#DejaVuSans-49\"/>\n      <use x=\"63.623047\" xlink:href=\"#DejaVuSans-49\"/>\n     </g>\n    </g>\n    <g id=\"line2d_25\">\n     <path d=\"M 334.057813 49.654687 \nL 354.057813 49.654687 \n\" style=\"fill:none;stroke:#d62728;stroke-linecap:square;stroke-width:1.5;\"/>\n    </g>\n    <g id=\"line2d_26\"/>\n    <g id=\"text_20\">\n     <!-- 15 -->\n     <g transform=\"translate(362.057813 53.154687)scale(0.1 -0.1)\">\n      <use xlink:href=\"#DejaVuSans-49\"/>\n      <use x=\"63.623047\" xlink:href=\"#DejaVuSans-53\"/>\n     </g>\n    </g>\n    <g id=\"line2d_27\">\n     <path d=\"M 334.057813 64.332812 \nL 354.057813 64.332812 \n\" style=\"fill:none;stroke:#9467bd;stroke-linecap:square;stroke-width:1.5;\"/>\n    </g>\n    <g id=\"line2d_28\"/>\n    <g id=\"text_21\">\n     <!-- 19 -->\n     <g transform=\"translate(362.057813 67.832812)scale(0.1 -0.1)\">\n      <use xlink:href=\"#DejaVuSans-49\"/>\n      <use x=\"63.623047\" xlink:href=\"#DejaVuSans-57\"/>\n     </g>\n    </g>\n   </g>\n  </g>\n </g>\n <defs>\n  <clipPath id=\"p4ce1d0b476\">\n   <rect height=\"217.44\" width=\"334.8\" x=\"48.982813\" y=\"7.2\"/>\n  </clipPath>\n </defs>\n</svg>\n",
      "image/png": "[encoded data removed]"
     },
     "metadata": {
      "needs_background": "light"
     }
    }
   ],
   "source": [
    "def plot_mean_energy(h, t, repeats, averaging):\n",
    "    #get the analytical results\n",
    "    j_array_analytical=np.arange(0.25, 1.01, 0.01)\n",
    "    mean_energy_array_analytical=np.zeros(len(j_array_analytical))\n",
    "    for i in range(len(j_array_analytical)):\n",
    "        mean_energy_array_analytical[i]=mean_energy_analytical(j_array_analytical[i])\n",
    "    \n",
    "    #generate simulated results\n",
    "    #The N-Values that are going to be used\n",
    "    N_array=[7, 11, 15, 19]\n",
    "    #We will have all values from 0.25 to 1 in a 0.1 intervall\n",
    "    j_array_simulated=np.arange(0.25, 1.01, 0.05)\n",
    "    temp_energy_array=np.zeros(averaging)\n",
    "    mean_energy_array_simulated=np.zeros(len(j_array_simulated)*4).reshape(4, len(j_array_simulated))\n",
    "    #mean_energy_array_simulated_temp=np.zeros(len(j_array_simulated)*4).reshape(4, len(j_array_simulated))\n",
    "\n",
    "    #loop over all possible N values ([7, 11, 15, 19])\n",
    "    for k in range(len(N_array)):\n",
    "        #loop over all possible j values\n",
    "        for i in range(len(j_array_simulated)):\n",
    "            #calculate the mean energy\n",
    "            for d in range(averaging):\n",
    "                #Generate Spin arrays\n",
    "                spin_array_array=gen_spin_array(N_array[k])\n",
    "                #make a MC Sample\n",
    "                a, spin_array_array=mc_estimate(spin_array_array, j_array_simulated[k], 0, t, repeats)\n",
    "                temp_energy_array[d]=mean_energy_simulated(spin_array_array, N_array[k], j_array_simulated[i], t)\n",
    "            #print(temp_energy_array)\n",
    "            mean_energy_array_simulated[k][i]=np.average(temp_energy_array)\n",
    "        #print(mean_energy_array_simulated)\n",
    "    plt.plot(j_array_analytical, mean_energy_array_analytical)\n",
    "    for k in range(len(N_array)):\n",
    "        plt.plot(j_array_simulated, mean_energy_array_simulated[k]*200, label=N_array[k])\n",
    "    plt.xlabel(\"j\")\n",
    "    plt.ylabel(\"e\")\n",
    "    plt.legend(loc=\"best\")\n",
    "    plt.savefig(\"plot_mean_energy.png\")\n",
    "\n",
    "plot_mean_energy(0, 1, 20, 20)"
   ]
  },
  {
   "source": [
    "## Exercise 7\n",
    "\n",
    "We can also calculate an analytical solution for absolute value of the mean magnetization. This is given by:\n",
    "\n",
    "\\begin{equation}\n",
    "        |m| = \\left\\{\n",
    "\t\t\\begin{array}{ll}\n",
    "\t\t\\left(\\frac{1}{\\sinh^4(2J)}\\right)^{\\frac{1}{8}}, &\\text{ if }J_c < J \\\\\n",
    "\t\t0 & else \n",
    "\t\t\\end{array}\n",
    "\t\t\\right.\n",
    "\\end{equation}\n",
    "\n",
    "We can compare this to our simulated result. For the comparison we only look a certain J interval. \n",
    "\n",
    "$j \\in [0.25, 1]$"
   ],
   "cell_type": "markdown",
   "metadata": {}
  },
  {
   "cell_type": "code",
   "execution_count": null,
   "metadata": {},
   "outputs": [],
   "source": [
    "def mean_magnetization_analytical(j):\n",
    "    if j>0.440686793509772:\n",
    "        return ((1-(1/(math.sinh(2*j)**4)))**(1/8))\n",
    "    else:\n",
    "        return 0\n",
    "\n",
    "def plot_mean_magnetization(N, h, t, repeats, averaging):\n",
    "    j_array_analytical=np.arange(0.25, 1.01, 0.01)\n",
    "    mean_magnetization_array_analytical=np.zeros(len(j_array_analytical))\n",
    "    for i in range(len(j_array_analytical)):\n",
    "        mean_magnetization_array_analytical[i]=mean_magnetization_analytical(j_array_analytical[i])\n",
    "    plt.plot(j_array_analytical, mean_magnetization_array_analytical)\n",
    "    \n",
    "    #The N-Values that are going to be used\n",
    "    N_array=[4, 8, 12, 16]\n",
    "    spin_array_array=[]\n",
    "    for i in N_array:\n",
    "        spin_array_array=spin_array_array+[gen_spin_array(i)]\n",
    "    #We will have all values from -1 to 1 in a 0.05 intervall\n",
    "    j_array_simulated=np.arange(0.25, 1.01, 0.1)\n",
    "    m_array=np.zeros(len(j_array_simulated)*len(N_array)).reshape(len(N_array), len(j_array_simulated))\n",
    "    m_array_temp=np.zeros(averaging)\n",
    "    \n",
    "    #loop over all possible N values ([4, 8, 12, 16])\n",
    "    for k in range(len(N_array)):\n",
    "        #loop over all possible h values\n",
    "        for i in range(len(j_array_simulated)):\n",
    "            for d in range(averaging):\n",
    "                m_array_temp[d], a = mc_estimate(spin_array_array[k], j_array_simulated[i], h, t, repeats)\n",
    "            m_array[k][i]=np.average(m_array_temp)\n",
    "    for k in range(len(N_array)):\n",
    "        plt.plot(j_array_simulated, m_array[k], label=N_array[k])\n",
    "    plt.xlabel(\"j\")\n",
    "    plt.ylabel(\"m\")\n",
    "    plt.legend(loc=\"best\")\n",
    "    plt.savefig(\"plot_mean_energy.png\")\n",
    "\n",
    "\n",
    "plot_mean_magnetization(4, 1, 1, 20, 20)"
   ]
  },
  {
   "cell_type": "code",
   "execution_count": null,
   "metadata": {},
   "outputs": [],
   "source": []
  }
 ]
}